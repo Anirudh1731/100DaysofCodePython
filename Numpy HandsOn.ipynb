{
 "cells": [
  {
   "cell_type": "code",
   "execution_count": 11,
   "id": "39b89a37",
   "metadata": {},
   "outputs": [],
   "source": [
    "import numpy as np\n",
    "arr1=np.array([1,2,3],dtype=int)"
   ]
  },
  {
   "cell_type": "code",
   "execution_count": 12,
   "id": "813b7b4f",
   "metadata": {},
   "outputs": [
    {
     "data": {
      "text/plain": [
       "array([1, 2, 3])"
      ]
     },
     "execution_count": 12,
     "metadata": {},
     "output_type": "execute_result"
    }
   ],
   "source": [
    "arr1"
   ]
  },
  {
   "cell_type": "code",
   "execution_count": 13,
   "id": "8815becc",
   "metadata": {},
   "outputs": [],
   "source": [
    "arr2=np.array([1,2,3],dtype=float)"
   ]
  },
  {
   "cell_type": "code",
   "execution_count": 14,
   "id": "624106d4",
   "metadata": {},
   "outputs": [
    {
     "data": {
      "text/plain": [
       "array([1., 2., 3.])"
      ]
     },
     "execution_count": 14,
     "metadata": {},
     "output_type": "execute_result"
    }
   ],
   "source": [
    "arr2"
   ]
  },
  {
   "cell_type": "code",
   "execution_count": 32,
   "id": "028512fa",
   "metadata": {},
   "outputs": [
    {
     "name": "stdout",
     "output_type": "stream",
     "text": [
      "(9,)\n",
      "1\n",
      "(3, 3)\n",
      "2\n",
      "(3, 1, 3)\n",
      "3\n",
      "(3, 1, 3, 1)\n",
      "4\n",
      "()\n",
      "0\n"
     ]
    }
   ],
   "source": [
    "#1d\n",
    "arr1=np.array([1,2,3,4,5,6,7,8,9])\n",
    "print(arr1.shape)\n",
    "print(arr1.ndim)\n",
    "#2d\n",
    "arr1=np.array([1,2,3,4,5,6,7,8,9]).reshape(3,3)\n",
    "print(arr1.shape)\n",
    "print(arr1.ndim)\n",
    "#3d\n",
    "arr1=np.array([1,2,3,4,5,6,7,8,9]).reshape(3,1,3)\n",
    "print(arr1.shape)\n",
    "print(arr1.ndim)\n",
    "\n",
    "#4d\n",
    "arr1=np.array([1,2,3,4,5,6,7,8,9]).reshape(3,1,3,1)\n",
    "print(arr1.shape)\n",
    "print(arr1.ndim)\n",
    "                \n",
    "    \n",
    "#0d\n",
    "arr1=np.array(4)\n",
    "print(arr1.shape)\n",
    "print(arr1.ndim)"
   ]
  },
  {
   "cell_type": "markdown",
   "id": "eedf333f",
   "metadata": {},
   "source": [
    "arr1=np.array([1,2,3,4,5,6,7,8,9]).reshape(3,3)"
   ]
  },
  {
   "cell_type": "code",
   "execution_count": 15,
   "id": "a72664d1",
   "metadata": {},
   "outputs": [],
   "source": [
    "arr1=np.array([1,2,3,4,5,6,7,8,9]).reshape(3,1,3\n",
    "                                          )"
   ]
  },
  {
   "cell_type": "code",
   "execution_count": 16,
   "id": "5e7e2095",
   "metadata": {},
   "outputs": [
    {
     "data": {
      "text/plain": [
       "array([[[1, 2, 3]],\n",
       "\n",
       "       [[4, 5, 6]],\n",
       "\n",
       "       [[7, 8, 9]]])"
      ]
     },
     "execution_count": 16,
     "metadata": {},
     "output_type": "execute_result"
    }
   ],
   "source": [
    "arr1"
   ]
  },
  {
   "cell_type": "code",
   "execution_count": 33,
   "id": "dcb2277c",
   "metadata": {},
   "outputs": [],
   "source": [
    "#2x2 , 3x3 and 4X4 identy array\n",
    "x=np.eye(2)\n",
    "x=np.eye(3)\n",
    "x=np.eye(4)"
   ]
  },
  {
   "cell_type": "code",
   "execution_count": null,
   "id": "22b960c3",
   "metadata": {},
   "outputs": [],
   "source": [
    "x=np.eye(3)"
   ]
  },
  {
   "cell_type": "code",
   "execution_count": null,
   "id": "059fef06",
   "metadata": {},
   "outputs": [],
   "source": []
  },
  {
   "cell_type": "code",
   "execution_count": 34,
   "id": "b749458c",
   "metadata": {},
   "outputs": [
    {
     "data": {
      "text/plain": [
       "array([[1., 0., 0.],\n",
       "       [0., 1., 0.],\n",
       "       [0., 0., 1.]])"
      ]
     },
     "execution_count": 34,
     "metadata": {},
     "output_type": "execute_result"
    }
   ],
   "source": [
    "x"
   ]
  },
  {
   "cell_type": "code",
   "execution_count": 36,
   "id": "f4df50b0",
   "metadata": {},
   "outputs": [
    {
     "data": {
      "text/plain": [
       "array([[0., 0., 0., 0., 0.],\n",
       "       [0., 0., 0., 0., 0.]])"
      ]
     },
     "execution_count": 36,
     "metadata": {},
     "output_type": "execute_result"
    }
   ],
   "source": [
    "#zero array of 2X5\n",
    "np.zeros((2,5))"
   ]
  },
  {
   "cell_type": "code",
   "execution_count": 37,
   "id": "3680d564",
   "metadata": {},
   "outputs": [
    {
     "data": {
      "text/plain": [
       "array([[5., 5., 5., 5., 5.],\n",
       "       [5., 5., 5., 5., 5.],\n",
       "       [5., 5., 5., 5., 5.]])"
      ]
     },
     "execution_count": 37,
     "metadata": {},
     "output_type": "execute_result"
    }
   ],
   "source": [
    "#array of 5 with all element s as 5\n",
    "np.ones((3,5))*5"
   ]
  },
  {
   "cell_type": "code",
   "execution_count": 41,
   "id": "9d65fb6f",
   "metadata": {},
   "outputs": [
    {
     "data": {
      "text/plain": [
       "array([[5, 5, 5, 5, 5],\n",
       "       [5, 5, 5, 5, 5],\n",
       "       [5, 5, 5, 5, 5]])"
      ]
     },
     "execution_count": 41,
     "metadata": {},
     "output_type": "execute_result"
    }
   ],
   "source": [
    "np.full((3,5),5)"
   ]
  },
  {
   "cell_type": "code",
   "execution_count": 43,
   "id": "0343e6fc",
   "metadata": {},
   "outputs": [
    {
     "data": {
      "text/plain": [
       "array([91, 95, 21, 99, 94, 74, 45, 27, 14, 11, 15, 54, 22,  8, 82, 45, 22,\n",
       "        2, 20, 31, 66, 57,  7, 45, 53])"
      ]
     },
     "execution_count": 43,
     "metadata": {},
     "output_type": "execute_result"
    }
   ],
   "source": [
    "#creating random numbers between 0 to 100 with sample size of 25\n",
    "np.random.randint(0,100,25)"
   ]
  },
  {
   "cell_type": "code",
   "execution_count": 44,
   "id": "5864c266",
   "metadata": {},
   "outputs": [
    {
     "data": {
      "text/plain": [
       "array([[1, 1, 1],\n",
       "       [1, 1, 1],\n",
       "       [1, 1, 1]])"
      ]
     },
     "execution_count": 44,
     "metadata": {},
     "output_type": "execute_result"
    }
   ],
   "source": [
    "np.full((3,3),1)"
   ]
  },
  {
   "cell_type": "code",
   "execution_count": 46,
   "id": "e5ab3ffc",
   "metadata": {},
   "outputs": [
    {
     "data": {
      "text/plain": [
       "array([[ 8, 71],\n",
       "       [18, 77],\n",
       "       [25, 36]])"
      ]
     },
     "execution_count": 46,
     "metadata": {},
     "output_type": "execute_result"
    }
   ],
   "source": [
    "#random numbers of size 2X3 within 0 to 100 and reshape to 3X2\n",
    "np.random.randint(0,100,size=(2,3)).reshape(3,2)"
   ]
  },
  {
   "cell_type": "code",
   "execution_count": 47,
   "id": "b2a306df",
   "metadata": {},
   "outputs": [],
   "source": [
    "arr1=np.random.randint(0,1000,50)"
   ]
  },
  {
   "cell_type": "code",
   "execution_count": 52,
   "id": "124e4344",
   "metadata": {},
   "outputs": [
    {
     "data": {
      "text/plain": [
       "array([888, 458, 891,  96, 159, 693, 239, 384, 623,  78, 869, 362, 415,\n",
       "        79, 248, 287, 987, 530, 675, 439, 998, 155, 968,  18, 877, 625,\n",
       "       895, 371, 697, 706, 159, 606,  70,  49,  33, 413, 800,  75, 628,\n",
       "       349, 906, 662, 217, 936, 834, 865, 710, 299, 996, 394])"
      ]
     },
     "execution_count": 52,
     "metadata": {},
     "output_type": "execute_result"
    }
   ],
   "source": [
    "arr1"
   ]
  },
  {
   "cell_type": "code",
   "execution_count": null,
   "id": "56e12dc2",
   "metadata": {},
   "outputs": [],
   "source": [
    "1) arr1=np.random.randint(0,1001,50)\n",
    "2)arr1[0:10]\n",
    "3)arr1[:-11:-1]\n",
    "4)arr1[10:26]\n",
    "5)arr1[22]\n",
    "6)arr1[:-11:-1]"
   ]
  },
  {
   "cell_type": "code",
   "execution_count": 48,
   "id": "2599dcf2",
   "metadata": {},
   "outputs": [
    {
     "data": {
      "text/plain": [
       "array([888, 458, 891,  96, 159, 693, 239, 384, 623,  78])"
      ]
     },
     "execution_count": 48,
     "metadata": {},
     "output_type": "execute_result"
    }
   ],
   "source": [
    "arr1[0:10]"
   ]
  },
  {
   "cell_type": "code",
   "execution_count": 53,
   "id": "3d6a0bef",
   "metadata": {},
   "outputs": [
    {
     "data": {
      "text/plain": [
       "array([394, 996, 299, 710, 865, 834, 936, 217, 662, 906])"
      ]
     },
     "execution_count": 53,
     "metadata": {},
     "output_type": "execute_result"
    }
   ],
   "source": [
    "arr1[:-11:-1]"
   ]
  },
  {
   "cell_type": "code",
   "execution_count": 54,
   "id": "b1de8cf6",
   "metadata": {},
   "outputs": [
    {
     "data": {
      "text/plain": [
       "array([869, 362, 415,  79, 248, 287, 987, 530, 675, 439, 998, 155, 968,\n",
       "        18, 877, 625])"
      ]
     },
     "execution_count": 54,
     "metadata": {},
     "output_type": "execute_result"
    }
   ],
   "source": [
    "arr1[10:26]"
   ]
  },
  {
   "cell_type": "code",
   "execution_count": 55,
   "id": "e13b736f",
   "metadata": {},
   "outputs": [
    {
     "data": {
      "text/plain": [
       "968"
      ]
     },
     "execution_count": 55,
     "metadata": {},
     "output_type": "execute_result"
    }
   ],
   "source": [
    "arr1[22]"
   ]
  },
  {
   "cell_type": "code",
   "execution_count": null,
   "id": "5f54276c",
   "metadata": {},
   "outputs": [],
   "source": [
    "arr1[:-11:-1]"
   ]
  },
  {
   "cell_type": "code",
   "execution_count": 61,
   "id": "1b26ba98",
   "metadata": {},
   "outputs": [
    {
     "data": {
      "text/plain": [
       "array([6, 1, 2, 3, 4, 5])"
      ]
     },
     "execution_count": 61,
     "metadata": {},
     "output_type": "execute_result"
    }
   ],
   "source": [
    "arr1=np.array([1,2,3,4,5])\n",
    "\n",
    "np.insert(arr1,len(arr1),6)\n",
    "np.insert(arr1,0,6)"
   ]
  },
  {
   "cell_type": "code",
   "execution_count": 63,
   "id": "dd38f40c",
   "metadata": {},
   "outputs": [
    {
     "name": "stdout",
     "output_type": "stream",
     "text": [
      "(array([3], dtype=int64),)\n"
     ]
    }
   ],
   "source": [
    "print(np.where(arr1==4))"
   ]
  },
  {
   "cell_type": "code",
   "execution_count": 65,
   "id": "87842fb0",
   "metadata": {},
   "outputs": [
    {
     "ename": "AttributeError",
     "evalue": "module 'numpy' has no attribute 'indexOf'",
     "output_type": "error",
     "traceback": [
      "\u001b[1;31m---------------------------------------------------------------------------\u001b[0m",
      "\u001b[1;31mAttributeError\u001b[0m                            Traceback (most recent call last)",
      "Cell \u001b[1;32mIn[65], line 1\u001b[0m\n\u001b[1;32m----> 1\u001b[0m np\u001b[38;5;241m.\u001b[39mindexOf(\u001b[38;5;241m4\u001b[39m)\n",
      "File \u001b[1;32m~\\anaconda3\\Lib\\site-packages\\numpy\\__init__.py:347\u001b[0m, in \u001b[0;36m__getattr__\u001b[1;34m(attr)\u001b[0m\n\u001b[0;32m    344\u001b[0m     \u001b[38;5;124m\"\u001b[39m\u001b[38;5;124mRemoved in NumPy 1.25.0\u001b[39m\u001b[38;5;124m\"\u001b[39m\n\u001b[0;32m    345\u001b[0m     \u001b[38;5;28;01mraise\u001b[39;00m \u001b[38;5;167;01mRuntimeError\u001b[39;00m(\u001b[38;5;124m\"\u001b[39m\u001b[38;5;124mTester was removed in NumPy 1.25.\u001b[39m\u001b[38;5;124m\"\u001b[39m)\n\u001b[1;32m--> 347\u001b[0m \u001b[38;5;28;01mraise\u001b[39;00m \u001b[38;5;167;01mAttributeError\u001b[39;00m(\u001b[38;5;124m\"\u001b[39m\u001b[38;5;124mmodule \u001b[39m\u001b[38;5;132;01m{!r}\u001b[39;00m\u001b[38;5;124m has no attribute \u001b[39m\u001b[38;5;124m\"\u001b[39m\n\u001b[0;32m    348\u001b[0m                      \u001b[38;5;124m\"\u001b[39m\u001b[38;5;132;01m{!r}\u001b[39;00m\u001b[38;5;124m\"\u001b[39m\u001b[38;5;241m.\u001b[39mformat(\u001b[38;5;18m__name__\u001b[39m, attr))\n",
      "\u001b[1;31mAttributeError\u001b[0m: module 'numpy' has no attribute 'indexOf'"
     ]
    }
   ],
   "source": [
    "np.indexOf(4)"
   ]
  },
  {
   "cell_type": "code",
   "execution_count": 67,
   "id": "59110d66",
   "metadata": {},
   "outputs": [
    {
     "data": {
      "text/plain": [
       "array([ 1,  2,  3, 30,  4,  5])"
      ]
     },
     "execution_count": 67,
     "metadata": {},
     "output_type": "execute_result"
    }
   ],
   "source": [
    "np.insert(arr1,(np.where(arr1==4))[0],30)"
   ]
  },
  {
   "cell_type": "code",
   "execution_count": 69,
   "id": "c87b2dd4",
   "metadata": {},
   "outputs": [
    {
     "data": {
      "text/plain": [
       "array([ 1,  2,  3,  4, 50])"
      ]
     },
     "execution_count": 69,
     "metadata": {},
     "output_type": "execute_result"
    }
   ],
   "source": [
    "np.where(arr1==5,50,arr1)"
   ]
  },
  {
   "cell_type": "code",
   "execution_count": 70,
   "id": "5e08b77e",
   "metadata": {},
   "outputs": [
    {
     "data": {
      "text/plain": [
       "array([1, 2, 3, 4])"
      ]
     },
     "execution_count": 70,
     "metadata": {},
     "output_type": "execute_result"
    }
   ],
   "source": [
    "#deleting 50\n",
    "np.delete(arr1,4)"
   ]
  },
  {
   "cell_type": "code",
   "execution_count": 71,
   "id": "f8551566",
   "metadata": {},
   "outputs": [],
   "source": [
    "def search(num):\n",
    "    for i in arr1:\n",
    "        if(i==num):\n",
    "            return True\n",
    "    return False"
   ]
  },
  {
   "cell_type": "code",
   "execution_count": 72,
   "id": "b1463c26",
   "metadata": {},
   "outputs": [
    {
     "data": {
      "text/plain": [
       "False"
      ]
     },
     "execution_count": 72,
     "metadata": {},
     "output_type": "execute_result"
    }
   ],
   "source": [
    "search(30)"
   ]
  },
  {
   "cell_type": "code",
   "execution_count": 73,
   "id": "6d21b7bf",
   "metadata": {},
   "outputs": [
    {
     "data": {
      "text/plain": [
       "array([1, 2, 3, 4, 5])"
      ]
     },
     "execution_count": 73,
     "metadata": {},
     "output_type": "execute_result"
    }
   ],
   "source": [
    "np.sort(arr1)"
   ]
  },
  {
   "cell_type": "code",
   "execution_count": 76,
   "id": "71db8011",
   "metadata": {},
   "outputs": [],
   "source": [
    "np.sort?"
   ]
  },
  {
   "cell_type": "code",
   "execution_count": null,
   "id": "5cc3eb8e",
   "metadata": {},
   "outputs": [],
   "source": []
  }
 ],
 "metadata": {
  "kernelspec": {
   "display_name": "Python 3 (ipykernel)",
   "language": "python",
   "name": "python3"
  },
  "language_info": {
   "codemirror_mode": {
    "name": "ipython",
    "version": 3
   },
   "file_extension": ".py",
   "mimetype": "text/x-python",
   "name": "python",
   "nbconvert_exporter": "python",
   "pygments_lexer": "ipython3",
   "version": "3.11.5"
  }
 },
 "nbformat": 4,
 "nbformat_minor": 5
}
