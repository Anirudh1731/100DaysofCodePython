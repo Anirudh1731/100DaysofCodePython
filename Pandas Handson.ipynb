{
 "cells": [
  {
   "cell_type": "code",
   "execution_count": 1,
   "id": "43c3981c",
   "metadata": {},
   "outputs": [],
   "source": [
    "import pandas as pd"
   ]
  },
  {
   "cell_type": "code",
   "execution_count": 22,
   "id": "d29d8c04",
   "metadata": {},
   "outputs": [],
   "source": [
    "# Given a sample list, tuple and a set with elements as numbers from 1-10. Convert each\n",
    "# of the data types into a pandas series. Create a separate list of index values for the\n",
    "# series.\n",
    "\n",
    "l1=[i for i in range(1,11)]\n",
    "s1=set([1,2,3,4,5,6,7,8,9,10])\n",
    "t1=tuple([1,2,3,4,5,6,7,8,9,10])\n",
    "\n",
    "df1=pd.Series(l1,index=[i for i in range(10,20)])\n",
    "df2=pd.Series(list(s1),index=[i for i in range(10,20)])\n",
    "df3=pd.Series(t1,index=[i for i in range(10,20)])"
   ]
  },
  {
   "cell_type": "code",
   "execution_count": 17,
   "id": "f8a8b6b1",
   "metadata": {},
   "outputs": [],
   "source": [
    "df1=pd.Series(l1,index=[i for i in range(10,20)])\n",
    "df2=pd.Series(list(s1),index=[i for i in range(10,20)])\n",
    "df3=pd.Series(t1,index=[i for i in range(10,20)],)"
   ]
  },
  {
   "cell_type": "code",
   "execution_count": 20,
   "id": "ff6cf3d5",
   "metadata": {},
   "outputs": [
    {
     "data": {
      "text/html": [
       "<div>\n",
       "<style scoped>\n",
       "    .dataframe tbody tr th:only-of-type {\n",
       "        vertical-align: middle;\n",
       "    }\n",
       "\n",
       "    .dataframe tbody tr th {\n",
       "        vertical-align: top;\n",
       "    }\n",
       "\n",
       "    .dataframe thead th {\n",
       "        text-align: right;\n",
       "    }\n",
       "</style>\n",
       "<table border=\"1\" class=\"dataframe\">\n",
       "  <thead>\n",
       "    <tr style=\"text-align: right;\">\n",
       "      <th></th>\n",
       "      <th>0</th>\n",
       "    </tr>\n",
       "  </thead>\n",
       "  <tbody>\n",
       "    <tr>\n",
       "      <th>10</th>\n",
       "      <td>1</td>\n",
       "    </tr>\n",
       "    <tr>\n",
       "      <th>11</th>\n",
       "      <td>2</td>\n",
       "    </tr>\n",
       "    <tr>\n",
       "      <th>12</th>\n",
       "      <td>3</td>\n",
       "    </tr>\n",
       "    <tr>\n",
       "      <th>13</th>\n",
       "      <td>4</td>\n",
       "    </tr>\n",
       "    <tr>\n",
       "      <th>14</th>\n",
       "      <td>5</td>\n",
       "    </tr>\n",
       "    <tr>\n",
       "      <th>15</th>\n",
       "      <td>6</td>\n",
       "    </tr>\n",
       "    <tr>\n",
       "      <th>16</th>\n",
       "      <td>7</td>\n",
       "    </tr>\n",
       "    <tr>\n",
       "      <th>17</th>\n",
       "      <td>8</td>\n",
       "    </tr>\n",
       "    <tr>\n",
       "      <th>18</th>\n",
       "      <td>9</td>\n",
       "    </tr>\n",
       "    <tr>\n",
       "      <th>19</th>\n",
       "      <td>10</td>\n",
       "    </tr>\n",
       "  </tbody>\n",
       "</table>\n",
       "</div>"
      ],
      "text/plain": [
       "     0\n",
       "10   1\n",
       "11   2\n",
       "12   3\n",
       "13   4\n",
       "14   5\n",
       "15   6\n",
       "16   7\n",
       "17   8\n",
       "18   9\n",
       "19  10"
      ]
     },
     "execution_count": 20,
     "metadata": {},
     "output_type": "execute_result"
    }
   ],
   "source": [
    "df2"
   ]
  },
  {
   "cell_type": "code",
   "execution_count": 23,
   "id": "0e9f5360",
   "metadata": {},
   "outputs": [
    {
     "data": {
      "text/plain": [
       "Anirudh    Santhosh\n",
       "Rohit        Sharma\n",
       "MS            Dhoni\n",
       "dtype: object"
      ]
     },
     "execution_count": 23,
     "metadata": {},
     "output_type": "execute_result"
    }
   ],
   "source": [
    "#  Create a python dictionary with three key value pairs. Keep the keys as the first names,\n",
    "# and the respective last names as values in the dictionary. Use the dictionary to create a\n",
    "# pandas series.\n",
    "\n",
    "dic1={\"Anirudh\":\"Santhosh\",\"Rohit\":\"Sharma\",\"MS\":\"Dhoni\"}\n",
    "\n",
    "pd.Series(dic1)\n"
   ]
  },
  {
   "cell_type": "code",
   "execution_count": 36,
   "id": "f297d536",
   "metadata": {},
   "outputs": [
    {
     "data": {
      "text/plain": [
       "{1, 2, 3, 4, 5, 6, 7, 8, 9, 10}"
      ]
     },
     "execution_count": 36,
     "metadata": {},
     "output_type": "execute_result"
    }
   ],
   "source": [
    "# Create a pandas series, with the elements as numbers from 1-10. Use the index values\n",
    "# starting from 0-10. For the above series:\n",
    "# a. Convert it to a list.\n",
    "# b. Convert it to a dictionary.\n",
    "# c. Convert it to a tuple.\n",
    "# d. Convert it to a set.\n",
    "\n",
    "p1=pd.Series([1,2,3,4,5,6,7,8,9,10],index=[i for i in range(0,10)])\n",
    "list(p1)\n",
    "dict(p1)\n",
    "tuple(p1)\n",
    "set(p1)"
   ]
  },
  {
   "cell_type": "code",
   "execution_count": 37,
   "id": "5422c6c3",
   "metadata": {},
   "outputs": [
    {
     "data": {
      "text/plain": [
       "{0: 1, 1: 2, 2: 3, 3: 4, 4: 5, 5: 6, 6: 7, 7: 8, 8: 9, 9: 10}"
      ]
     },
     "execution_count": 37,
     "metadata": {},
     "output_type": "execute_result"
    }
   ],
   "source": [
    "dict(p1)"
   ]
  },
  {
   "cell_type": "code",
   "execution_count": 31,
   "id": "e6daa4f5",
   "metadata": {},
   "outputs": [
    {
     "data": {
      "text/plain": [
       "{0: 1, 1: 2, 2: 3, 3: 4, 4: 5, 5: 6, 6: 7, 7: 8, 8: 9, 9: 10}"
      ]
     },
     "execution_count": 31,
     "metadata": {},
     "output_type": "execute_result"
    }
   ],
   "source": [
    "p1.to_dict()"
   ]
  },
  {
   "cell_type": "code",
   "execution_count": 33,
   "id": "3a18226f",
   "metadata": {},
   "outputs": [
    {
     "data": {
      "text/plain": [
       "(1, 2, 3, 4, 5, 6, 7, 8, 9, 10)"
      ]
     },
     "execution_count": 33,
     "metadata": {},
     "output_type": "execute_result"
    }
   ],
   "source": [
    "tuple(p1)"
   ]
  },
  {
   "cell_type": "code",
   "execution_count": 112,
   "id": "b647a28f",
   "metadata": {},
   "outputs": [],
   "source": [
    "# 4. Create a sample pandas series with x integer elements. Perform the following operations\n",
    "# on the same:\n",
    "# a. Print the first 5 elements of the series\n",
    "# b. Print the last 5 elements of the series\n",
    "# c. Insert an integer value ‘50’ at the index 5.\n",
    "# d. Update the last element in the series with the value 100.\n",
    "# e. Delete the first element from the series.\n",
    "\n",
    "s1=pd.Series([i for i in range(1,11)])"
   ]
  },
  {
   "cell_type": "code",
   "execution_count": 113,
   "id": "1da7329a",
   "metadata": {},
   "outputs": [
    {
     "data": {
      "text/plain": [
       "0     1\n",
       "1     2\n",
       "2     3\n",
       "3     4\n",
       "4     5\n",
       "5     6\n",
       "6     7\n",
       "7     8\n",
       "8     9\n",
       "9    10\n",
       "dtype: int64"
      ]
     },
     "execution_count": 113,
     "metadata": {},
     "output_type": "execute_result"
    }
   ],
   "source": [
    "s1"
   ]
  },
  {
   "cell_type": "code",
   "execution_count": 114,
   "id": "56ace893",
   "metadata": {},
   "outputs": [],
   "source": [
    "s1[0:5]\n",
    "s1[-5:]\n",
    "#to add a element in particular index in series we need to convert it to list then only\n",
    "l2=list(s1)\n",
    "l2.insert(5,50)\n",
    "s1=pd.Series(l2)\n",
    "# s1?\n",
    "s1.iloc[2]\n",
    "s1=s1.drop(0)\n"
   ]
  },
  {
   "cell_type": "code",
   "execution_count": 115,
   "id": "36038770",
   "metadata": {},
   "outputs": [
    {
     "data": {
      "text/plain": [
       "1      2\n",
       "2      3\n",
       "3      4\n",
       "4      5\n",
       "5     50\n",
       "6      6\n",
       "7      7\n",
       "8      8\n",
       "9      9\n",
       "10    10\n",
       "dtype: int64"
      ]
     },
     "execution_count": 115,
     "metadata": {},
     "output_type": "execute_result"
    }
   ],
   "source": [
    "s1"
   ]
  },
  {
   "cell_type": "code",
   "execution_count": 119,
   "id": "bde14966",
   "metadata": {},
   "outputs": [
    {
     "data": {
      "text/plain": [
       "array([ 2,  3,  4,  5, 50,  6,  7,  8,  9, 10], dtype=int64)"
      ]
     },
     "execution_count": 119,
     "metadata": {},
     "output_type": "execute_result"
    }
   ],
   "source": [
    "s1.values"
   ]
  },
  {
   "cell_type": "code",
   "execution_count": 121,
   "id": "a59a7560",
   "metadata": {},
   "outputs": [
    {
     "data": {
      "text/plain": [
       "False"
      ]
     },
     "execution_count": 121,
     "metadata": {},
     "output_type": "execute_result"
    }
   ],
   "source": [
    "# 5. For a given pandas series obtained in the 4th step. Write a sample code to find the\n",
    "# element 100 in the series.\n",
    "\n",
    "100 in s1.values"
   ]
  },
  {
   "cell_type": "code",
   "execution_count": 130,
   "id": "13161567",
   "metadata": {},
   "outputs": [],
   "source": [
    "# 6. For the given series A and B, perform concatenation on the same.\n",
    "# series_A = pd.Series([1,2,3,4,5])\n",
    "# series_B = pd.Series([6,7,8,9,10])\n",
    "\n",
    "series_a=pd.Series([1,2,3,4,5])\n",
    "series_b=pd.Series([6,7,8,9,10])\n",
    "\n",
    "series_c=pd.concat([series_a,series_b],ignore_index=True)"
   ]
  },
  {
   "cell_type": "code",
   "execution_count": 131,
   "id": "f3321a13",
   "metadata": {},
   "outputs": [
    {
     "data": {
      "text/plain": [
       "0     1\n",
       "1     2\n",
       "2     3\n",
       "3     4\n",
       "4     5\n",
       "5     6\n",
       "6     7\n",
       "7     8\n",
       "8     9\n",
       "9    10\n",
       "dtype: int64"
      ]
     },
     "execution_count": 131,
     "metadata": {},
     "output_type": "execute_result"
    }
   ],
   "source": [
    "series_c"
   ]
  },
  {
   "cell_type": "code",
   "execution_count": 132,
   "id": "955ffb13",
   "metadata": {},
   "outputs": [
    {
     "name": "stdout",
     "output_type": "stream",
     "text": [
      "1\n",
      "2\n",
      "3\n",
      "4\n",
      "5\n",
      "6\n",
      "7\n",
      "8\n",
      "9\n",
      "10\n"
     ]
    }
   ],
   "source": [
    "# 7. Using loops in python, print all the elements within a pandas series.\n",
    "# Sample = pd.Series([1,2,3,4,5,6,7,8,9,10])\n",
    "\n",
    "for i in series_c:\n",
    "    print(i)"
   ]
  },
  {
   "cell_type": "code",
   "execution_count": 135,
   "id": "73efdeb7",
   "metadata": {},
   "outputs": [],
   "source": [
    "# 8. For a given nested list and a sample dictionary, create two data frames using pandas.\n",
    "List = [['AA','BB','CC'], ['DD','EE','FF'], ['GG','HH','II']]\n",
    "Dictionary = { 'Kris': ['Jordan', 12,22],'Memphis': ['Depay', 23, 24]}\n",
    "\n",
    "df1=pd.DataFrame(List)\n",
    "df2=pd.DataFrame(Dictionary)"
   ]
  },
  {
   "cell_type": "code",
   "execution_count": 137,
   "id": "847242f0",
   "metadata": {},
   "outputs": [
    {
     "data": {
      "text/html": [
       "<div>\n",
       "<style scoped>\n",
       "    .dataframe tbody tr th:only-of-type {\n",
       "        vertical-align: middle;\n",
       "    }\n",
       "\n",
       "    .dataframe tbody tr th {\n",
       "        vertical-align: top;\n",
       "    }\n",
       "\n",
       "    .dataframe thead th {\n",
       "        text-align: right;\n",
       "    }\n",
       "</style>\n",
       "<table border=\"1\" class=\"dataframe\">\n",
       "  <thead>\n",
       "    <tr style=\"text-align: right;\">\n",
       "      <th></th>\n",
       "      <th>0</th>\n",
       "      <th>1</th>\n",
       "      <th>2</th>\n",
       "    </tr>\n",
       "  </thead>\n",
       "  <tbody>\n",
       "    <tr>\n",
       "      <th>0</th>\n",
       "      <td>AA</td>\n",
       "      <td>BB</td>\n",
       "      <td>CC</td>\n",
       "    </tr>\n",
       "    <tr>\n",
       "      <th>1</th>\n",
       "      <td>DD</td>\n",
       "      <td>EE</td>\n",
       "      <td>FF</td>\n",
       "    </tr>\n",
       "    <tr>\n",
       "      <th>2</th>\n",
       "      <td>GG</td>\n",
       "      <td>HH</td>\n",
       "      <td>II</td>\n",
       "    </tr>\n",
       "  </tbody>\n",
       "</table>\n",
       "</div>"
      ],
      "text/plain": [
       "    0   1   2\n",
       "0  AA  BB  CC\n",
       "1  DD  EE  FF\n",
       "2  GG  HH  II"
      ]
     },
     "execution_count": 137,
     "metadata": {},
     "output_type": "execute_result"
    }
   ],
   "source": [
    "df1"
   ]
  },
  {
   "cell_type": "code",
   "execution_count": 139,
   "id": "95e24ad4",
   "metadata": {},
   "outputs": [],
   "source": [
    "df1=pd.DataFrame(List,columns=[\"col1\",\"col2\",\"col3\"])"
   ]
  },
  {
   "cell_type": "code",
   "execution_count": 141,
   "id": "0c727c29",
   "metadata": {},
   "outputs": [
    {
     "data": {
      "text/html": [
       "<div>\n",
       "<style scoped>\n",
       "    .dataframe tbody tr th:only-of-type {\n",
       "        vertical-align: middle;\n",
       "    }\n",
       "\n",
       "    .dataframe tbody tr th {\n",
       "        vertical-align: top;\n",
       "    }\n",
       "\n",
       "    .dataframe thead th {\n",
       "        text-align: right;\n",
       "    }\n",
       "</style>\n",
       "<table border=\"1\" class=\"dataframe\">\n",
       "  <thead>\n",
       "    <tr style=\"text-align: right;\">\n",
       "      <th></th>\n",
       "      <th>col1</th>\n",
       "      <th>col2</th>\n",
       "      <th>col3</th>\n",
       "    </tr>\n",
       "  </thead>\n",
       "  <tbody>\n",
       "    <tr>\n",
       "      <th>0</th>\n",
       "      <td>AA</td>\n",
       "      <td>BB</td>\n",
       "      <td>CC</td>\n",
       "    </tr>\n",
       "    <tr>\n",
       "      <th>1</th>\n",
       "      <td>DD</td>\n",
       "      <td>EE</td>\n",
       "      <td>FF</td>\n",
       "    </tr>\n",
       "    <tr>\n",
       "      <th>2</th>\n",
       "      <td>GG</td>\n",
       "      <td>HH</td>\n",
       "      <td>II</td>\n",
       "    </tr>\n",
       "  </tbody>\n",
       "</table>\n",
       "</div>"
      ],
      "text/plain": [
       "  col1 col2 col3\n",
       "0   AA   BB   CC\n",
       "1   DD   EE   FF\n",
       "2   GG   HH   II"
      ]
     },
     "execution_count": 141,
     "metadata": {},
     "output_type": "execute_result"
    }
   ],
   "source": [
    "df1"
   ]
  },
  {
   "cell_type": "code",
   "execution_count": 140,
   "id": "3bc70538",
   "metadata": {},
   "outputs": [
    {
     "data": {
      "text/html": [
       "<div>\n",
       "<style scoped>\n",
       "    .dataframe tbody tr th:only-of-type {\n",
       "        vertical-align: middle;\n",
       "    }\n",
       "\n",
       "    .dataframe tbody tr th {\n",
       "        vertical-align: top;\n",
       "    }\n",
       "\n",
       "    .dataframe thead th {\n",
       "        text-align: right;\n",
       "    }\n",
       "</style>\n",
       "<table border=\"1\" class=\"dataframe\">\n",
       "  <thead>\n",
       "    <tr style=\"text-align: right;\">\n",
       "      <th></th>\n",
       "      <th>Kris</th>\n",
       "      <th>Memphis</th>\n",
       "    </tr>\n",
       "  </thead>\n",
       "  <tbody>\n",
       "    <tr>\n",
       "      <th>0</th>\n",
       "      <td>Jordan</td>\n",
       "      <td>Depay</td>\n",
       "    </tr>\n",
       "    <tr>\n",
       "      <th>1</th>\n",
       "      <td>12</td>\n",
       "      <td>23</td>\n",
       "    </tr>\n",
       "    <tr>\n",
       "      <th>2</th>\n",
       "      <td>22</td>\n",
       "      <td>24</td>\n",
       "    </tr>\n",
       "  </tbody>\n",
       "</table>\n",
       "</div>"
      ],
      "text/plain": [
       "     Kris Memphis\n",
       "0  Jordan   Depay\n",
       "1      12      23\n",
       "2      22      24"
      ]
     },
     "execution_count": 140,
     "metadata": {},
     "output_type": "execute_result"
    }
   ],
   "source": [
    "df2"
   ]
  },
  {
   "cell_type": "code",
   "execution_count": 174,
   "id": "92f09dae",
   "metadata": {},
   "outputs": [],
   "source": [
    "# 9. Create a pandas Dataframe with two columns = [‘Name’, ‘Age’]. Perform the following\n",
    "# operations on the same.\n",
    "# a. Print the first 3 rows of the Data Frame .\n",
    "# b. Print the rows that have the age greater than 15.\n",
    "# c. Insert 5 imaginary names and ages as values to the pandas Data Frame .\n",
    "# d. Update the 5th row so that the name = john and age=56.\n",
    "# e. Delete the first row from the Data Frame .\n",
    "\n",
    "\n",
    "df3=pd.DataFrame({\"Name\":[\"Anirudh\",\"Rohit\",\"Raina\",\"Dhoni\",\"Rahul\",\"Mohit\"],\"Age\":[22,45,16,43,55,34]})\n",
    "\n",
    "df3.head(3)\n",
    "#adding by creeating a new dataframe and perdorming concatination\n",
    "df2=pd.DataFrame({\"Name\":[\"Ani\",\"Rohita\",\"Rana\",\"Kohli\",\"Raman\",\"Mohita\"],\"Age\":[26,15,26,53,75,14]})\n",
    "df3=pd.concat([df3,df2],axis=0,ignore_index=True)\n",
    "df3[df3[\"Age\"]>15]\n",
    "df3.iloc[4]=[\"John\",56]\n",
    "df3.drop(0,inplace=True)\n"
   ]
  },
  {
   "cell_type": "code",
   "execution_count": 175,
   "id": "31c34471",
   "metadata": {},
   "outputs": [
    {
     "data": {
      "text/html": [
       "<div>\n",
       "<style scoped>\n",
       "    .dataframe tbody tr th:only-of-type {\n",
       "        vertical-align: middle;\n",
       "    }\n",
       "\n",
       "    .dataframe tbody tr th {\n",
       "        vertical-align: top;\n",
       "    }\n",
       "\n",
       "    .dataframe thead th {\n",
       "        text-align: right;\n",
       "    }\n",
       "</style>\n",
       "<table border=\"1\" class=\"dataframe\">\n",
       "  <thead>\n",
       "    <tr style=\"text-align: right;\">\n",
       "      <th></th>\n",
       "      <th>Name</th>\n",
       "      <th>Age</th>\n",
       "    </tr>\n",
       "  </thead>\n",
       "  <tbody>\n",
       "    <tr>\n",
       "      <th>1</th>\n",
       "      <td>Rohit</td>\n",
       "      <td>45</td>\n",
       "    </tr>\n",
       "    <tr>\n",
       "      <th>2</th>\n",
       "      <td>Raina</td>\n",
       "      <td>16</td>\n",
       "    </tr>\n",
       "    <tr>\n",
       "      <th>3</th>\n",
       "      <td>Dhoni</td>\n",
       "      <td>43</td>\n",
       "    </tr>\n",
       "    <tr>\n",
       "      <th>4</th>\n",
       "      <td>John</td>\n",
       "      <td>56</td>\n",
       "    </tr>\n",
       "    <tr>\n",
       "      <th>5</th>\n",
       "      <td>Mohit</td>\n",
       "      <td>34</td>\n",
       "    </tr>\n",
       "    <tr>\n",
       "      <th>6</th>\n",
       "      <td>Ani</td>\n",
       "      <td>26</td>\n",
       "    </tr>\n",
       "    <tr>\n",
       "      <th>7</th>\n",
       "      <td>Rohita</td>\n",
       "      <td>15</td>\n",
       "    </tr>\n",
       "    <tr>\n",
       "      <th>8</th>\n",
       "      <td>Rana</td>\n",
       "      <td>26</td>\n",
       "    </tr>\n",
       "    <tr>\n",
       "      <th>9</th>\n",
       "      <td>Kohli</td>\n",
       "      <td>53</td>\n",
       "    </tr>\n",
       "    <tr>\n",
       "      <th>10</th>\n",
       "      <td>Raman</td>\n",
       "      <td>75</td>\n",
       "    </tr>\n",
       "    <tr>\n",
       "      <th>11</th>\n",
       "      <td>Mohita</td>\n",
       "      <td>14</td>\n",
       "    </tr>\n",
       "  </tbody>\n",
       "</table>\n",
       "</div>"
      ],
      "text/plain": [
       "      Name  Age\n",
       "1    Rohit   45\n",
       "2    Raina   16\n",
       "3    Dhoni   43\n",
       "4     John   56\n",
       "5    Mohit   34\n",
       "6      Ani   26\n",
       "7   Rohita   15\n",
       "8     Rana   26\n",
       "9    Kohli   53\n",
       "10   Raman   75\n",
       "11  Mohita   14"
      ]
     },
     "execution_count": 175,
     "metadata": {},
     "output_type": "execute_result"
    }
   ],
   "source": [
    "df3"
   ]
  },
  {
   "cell_type": "code",
   "execution_count": null,
   "id": "24161928",
   "metadata": {},
   "outputs": [],
   "source": []
  }
 ],
 "metadata": {
  "kernelspec": {
   "display_name": "Python 3 (ipykernel)",
   "language": "python",
   "name": "python3"
  },
  "language_info": {
   "codemirror_mode": {
    "name": "ipython",
    "version": 3
   },
   "file_extension": ".py",
   "mimetype": "text/x-python",
   "name": "python",
   "nbconvert_exporter": "python",
   "pygments_lexer": "ipython3",
   "version": "3.11.5"
  }
 },
 "nbformat": 4,
 "nbformat_minor": 5
}
