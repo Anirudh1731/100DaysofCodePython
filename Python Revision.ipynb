{
 "cells": [
  {
   "cell_type": "code",
   "execution_count": 1,
   "id": "c28e6c93",
   "metadata": {},
   "outputs": [
    {
     "data": {
      "text/plain": [
       "'0b1010'"
      ]
     },
     "execution_count": 1,
     "metadata": {},
     "output_type": "execute_result"
    }
   ],
   "source": [
    "# gives the binary format\n",
    "bin(10)"
   ]
  },
  {
   "cell_type": "code",
   "execution_count": 2,
   "id": "88db4653",
   "metadata": {},
   "outputs": [
    {
     "name": "stdout",
     "output_type": "stream",
     "text": [
      "10 140714613118024\n"
     ]
    }
   ],
   "source": [
    "#id gives the memory address of the variablenu\n",
    "a=10\n",
    "print(a,id(a))"
   ]
  },
  {
   "cell_type": "code",
   "execution_count": 3,
   "id": "0bc84480",
   "metadata": {},
   "outputs": [
    {
     "name": "stdout",
     "output_type": "stream",
     "text": [
      "10 140714613118024\n",
      "20 140714613118344\n"
     ]
    }
   ],
   "source": [
    "num=10\n",
    "print(num,id(num))\n",
    "num=20\n",
    "print(num,id(num))"
   ]
  },
  {
   "cell_type": "code",
   "execution_count": 5,
   "id": "f630f03e",
   "metadata": {},
   "outputs": [
    {
     "name": "stdout",
     "output_type": "stream",
     "text": [
      "10 140714613118024\n",
      "10 140714613118024\n",
      "257 2316310777776\n",
      "257 2316310786928\n"
     ]
    }
   ],
   "source": [
    "#memory management using python\n",
    "\n",
    "#same memory for a data defined this is called \"interning\"\n",
    "num=10\n",
    "print(num,id(num))\n",
    "copy=10\n",
    "print(copy,id(copy))\n",
    "\n",
    "\n",
    "#this reusng the memory happens till 256 and -5\n",
    "num=257\n",
    "print(num,id(num))\n",
    "copy=257\n",
    "print(copy,id(copy))"
   ]
  },
  {
   "cell_type": "code",
   "execution_count": 7,
   "id": "8ac3e817",
   "metadata": {},
   "outputs": [
    {
     "name": "stdout",
     "output_type": "stream",
     "text": [
      "257 2316311967856\n",
      "257 2316311967856\n"
     ]
    }
   ],
   "source": [
    "# to reuse the memory after the range we use sys\n",
    "import sys\n",
    "num=sys.intern('257')\n",
    "print(num,id(num))\n",
    "copy=sys.intern('257')\n",
    "print(copy,id(copy))\n"
   ]
  },
  {
   "cell_type": "code",
   "execution_count": 8,
   "id": "9d57dc56",
   "metadata": {},
   "outputs": [],
   "source": [
    "#short circuiting\n",
    "age=21\n",
    "age= age>18 and 'eligible'"
   ]
  },
  {
   "cell_type": "code",
   "execution_count": 9,
   "id": "1a4c3051",
   "metadata": {},
   "outputs": [
    {
     "data": {
      "text/plain": [
       "'eligible'"
      ]
     },
     "execution_count": 9,
     "metadata": {},
     "output_type": "execute_result"
    }
   ],
   "source": [
    "age"
   ]
  },
  {
   "cell_type": "code",
   "execution_count": 10,
   "id": "f2c2a7d8",
   "metadata": {},
   "outputs": [
    {
     "name": "stdout",
     "output_type": "stream",
     "text": [
      "-1\n"
     ]
    }
   ],
   "source": [
    "print(~0)"
   ]
  },
  {
   "cell_type": "code",
   "execution_count": 11,
   "id": "7d1798a0",
   "metadata": {},
   "outputs": [
    {
     "name": "stdout",
     "output_type": "stream",
     "text": [
      "-2\n"
     ]
    }
   ],
   "source": [
    "print(~1)"
   ]
  },
  {
   "cell_type": "code",
   "execution_count": 12,
   "id": "725187f3",
   "metadata": {},
   "outputs": [
    {
     "name": "stdout",
     "output_type": "stream",
     "text": [
      "1\n"
     ]
    }
   ],
   "source": [
    "print(~-2)"
   ]
  },
  {
   "cell_type": "code",
   "execution_count": 14,
   "id": "d82705e6",
   "metadata": {},
   "outputs": [
    {
     "name": "stdout",
     "output_type": "stream",
     "text": [
      "Hello! guys\n"
     ]
    }
   ],
   "source": [
    "print(\"Hello\",\"guys\",sep=\"! \")"
   ]
  },
  {
   "cell_type": "code",
   "execution_count": 15,
   "id": "1ae0b81a",
   "metadata": {},
   "outputs": [
    {
     "name": "stdout",
     "output_type": "stream",
     "text": [
      "True\n"
     ]
    }
   ],
   "source": [
    "#is vs ==\n",
    "\n",
    "num1=1000\n",
    "num2=1000\n",
    "\n",
    "print(num1==num2)"
   ]
  },
  {
   "cell_type": "code",
   "execution_count": 16,
   "id": "e34c70d4",
   "metadata": {},
   "outputs": [
    {
     "name": "stdout",
     "output_type": "stream",
     "text": [
      "False\n"
     ]
    }
   ],
   "source": [
    "print(num1 is num2)\n",
    "#false because after 256 the number start sharing the same memory"
   ]
  },
  {
   "cell_type": "code",
   "execution_count": 17,
   "id": "9c19f533",
   "metadata": {},
   "outputs": [
    {
     "name": "stdout",
     "output_type": "stream",
     "text": [
      "my name is ani\n"
     ]
    }
   ],
   "source": [
    "name=\"ani\"\n",
    "\n",
    "print(f\"my name is {name}\")"
   ]
  },
  {
   "cell_type": "code",
   "execution_count": 19,
   "id": "a4ee94a2",
   "metadata": {},
   "outputs": [],
   "source": [
    "print?"
   ]
  },
  {
   "cell_type": "code",
   "execution_count": 20,
   "id": "73493be9",
   "metadata": {},
   "outputs": [
    {
     "data": {
      "text/plain": [
       "'ani'"
      ]
     },
     "execution_count": 20,
     "metadata": {},
     "output_type": "execute_result"
    }
   ],
   "source": [
    "name.lower()"
   ]
  },
  {
   "cell_type": "code",
   "execution_count": 21,
   "id": "2d161907",
   "metadata": {},
   "outputs": [
    {
     "data": {
      "text/plain": [
       "'ANI'"
      ]
     },
     "execution_count": 21,
     "metadata": {},
     "output_type": "execute_result"
    }
   ],
   "source": [
    "name.upper()"
   ]
  },
  {
   "cell_type": "code",
   "execution_count": 22,
   "id": "9147d700",
   "metadata": {},
   "outputs": [
    {
     "data": {
      "text/plain": [
       "'Ani'"
      ]
     },
     "execution_count": 22,
     "metadata": {},
     "output_type": "execute_result"
    }
   ],
   "source": [
    "name.capitalize()"
   ]
  },
  {
   "cell_type": "code",
   "execution_count": 23,
   "id": "708b85f4",
   "metadata": {},
   "outputs": [
    {
     "data": {
      "text/plain": [
       "'hell'"
      ]
     },
     "execution_count": 23,
     "metadata": {},
     "output_type": "execute_result"
    }
   ],
   "source": [
    "n2=\"   hell \"\n",
    "n2.strip()"
   ]
  },
  {
   "cell_type": "code",
   "execution_count": 24,
   "id": "1f657dca",
   "metadata": {},
   "outputs": [
    {
     "data": {
      "text/plain": [
       "'kni'"
      ]
     },
     "execution_count": 24,
     "metadata": {},
     "output_type": "execute_result"
    }
   ],
   "source": [
    "name.replace('a','k')\n",
    "#strings are immutable still it changes because new memory is created"
   ]
  },
  {
   "cell_type": "code",
   "execution_count": 25,
   "id": "f9377f78",
   "metadata": {},
   "outputs": [
    {
     "data": {
      "text/plain": [
       "['Hello', 'my', 'name', 'is', 'anirudh']"
      ]
     },
     "execution_count": 25,
     "metadata": {},
     "output_type": "execute_result"
    }
   ],
   "source": [
    "n1=\"Hello,my,name,is,anirudh\"\n",
    "n1.split(\",\")"
   ]
  },
  {
   "cell_type": "code",
   "execution_count": 26,
   "id": "32604b90",
   "metadata": {},
   "outputs": [
    {
     "name": "stdout",
     "output_type": "stream",
     "text": [
      "ina\n"
     ]
    }
   ],
   "source": [
    "print(name[::-1])"
   ]
  },
  {
   "cell_type": "code",
   "execution_count": 27,
   "id": "184d3925",
   "metadata": {},
   "outputs": [
    {
     "data": {
      "text/plain": [
       "3"
      ]
     },
     "execution_count": 27,
     "metadata": {},
     "output_type": "execute_result"
    }
   ],
   "source": [
    "lst=[1,2,3]\n",
    "lst.pop()"
   ]
  },
  {
   "cell_type": "code",
   "execution_count": 28,
   "id": "58bf57ad",
   "metadata": {},
   "outputs": [
    {
     "data": {
      "text/plain": [
       "0"
      ]
     },
     "execution_count": 28,
     "metadata": {},
     "output_type": "execute_result"
    }
   ],
   "source": [
    "lst.index(1)"
   ]
  },
  {
   "cell_type": "code",
   "execution_count": 29,
   "id": "dc2d7e11",
   "metadata": {},
   "outputs": [],
   "source": [
    "lst.sort()"
   ]
  },
  {
   "cell_type": "code",
   "execution_count": 30,
   "id": "f63868a1",
   "metadata": {},
   "outputs": [
    {
     "data": {
      "text/plain": [
       "[1, 2]"
      ]
     },
     "execution_count": 30,
     "metadata": {},
     "output_type": "execute_result"
    }
   ],
   "source": [
    "lst"
   ]
  },
  {
   "cell_type": "code",
   "execution_count": 31,
   "id": "f8feac6d",
   "metadata": {},
   "outputs": [],
   "source": [
    "lst=[1,22,4]\n",
    "lst.sort()"
   ]
  },
  {
   "cell_type": "code",
   "execution_count": 32,
   "id": "8e4be77d",
   "metadata": {},
   "outputs": [
    {
     "data": {
      "text/plain": [
       "[1, 4, 22]"
      ]
     },
     "execution_count": 32,
     "metadata": {},
     "output_type": "execute_result"
    }
   ],
   "source": [
    "lst"
   ]
  },
  {
   "cell_type": "code",
   "execution_count": 33,
   "id": "985f5240",
   "metadata": {},
   "outputs": [
    {
     "name": "stdout",
     "output_type": "stream",
     "text": [
      "[22, 4, 1]\n"
     ]
    }
   ],
   "source": [
    "print(lst[::-1])"
   ]
  },
  {
   "cell_type": "code",
   "execution_count": 34,
   "id": "d7f805d6",
   "metadata": {},
   "outputs": [],
   "source": [
    "lst.remove(4)"
   ]
  },
  {
   "cell_type": "code",
   "execution_count": 35,
   "id": "d589e34d",
   "metadata": {},
   "outputs": [
    {
     "data": {
      "text/plain": [
       "[1, 22]"
      ]
     },
     "execution_count": 35,
     "metadata": {},
     "output_type": "execute_result"
    }
   ],
   "source": [
    "lst"
   ]
  },
  {
   "cell_type": "code",
   "execution_count": 36,
   "id": "42ccb79b",
   "metadata": {},
   "outputs": [],
   "source": [
    "lst.insert(1,45)"
   ]
  },
  {
   "cell_type": "code",
   "execution_count": 37,
   "id": "13a87f0e",
   "metadata": {},
   "outputs": [
    {
     "data": {
      "text/plain": [
       "[1, 45, 22]"
      ]
     },
     "execution_count": 37,
     "metadata": {},
     "output_type": "execute_result"
    }
   ],
   "source": [
    "lst"
   ]
  },
  {
   "cell_type": "code",
   "execution_count": 40,
   "id": "17b95360",
   "metadata": {},
   "outputs": [
    {
     "data": {
      "text/plain": [
       "[22, 45, 1]"
      ]
     },
     "execution_count": 40,
     "metadata": {},
     "output_type": "execute_result"
    }
   ],
   "source": [
    "lst[::-1]\n",
    "#creates a new memory"
   ]
  },
  {
   "cell_type": "code",
   "execution_count": 41,
   "id": "06801779",
   "metadata": {},
   "outputs": [
    {
     "data": {
      "text/plain": [
       "[1, 45, 22]"
      ]
     },
     "execution_count": 41,
     "metadata": {},
     "output_type": "execute_result"
    }
   ],
   "source": [
    "lst"
   ]
  },
  {
   "cell_type": "code",
   "execution_count": 42,
   "id": "2f899f89",
   "metadata": {},
   "outputs": [],
   "source": [
    "lst.reverse()"
   ]
  },
  {
   "cell_type": "code",
   "execution_count": 43,
   "id": "bb50716f",
   "metadata": {},
   "outputs": [
    {
     "data": {
      "text/plain": [
       "[22, 45, 1]"
      ]
     },
     "execution_count": 43,
     "metadata": {},
     "output_type": "execute_result"
    }
   ],
   "source": [
    "lst"
   ]
  },
  {
   "cell_type": "code",
   "execution_count": 44,
   "id": "0ba1f8f1",
   "metadata": {},
   "outputs": [],
   "source": [
    "#descending order\n",
    "lst.sort(reverse=True)"
   ]
  },
  {
   "cell_type": "code",
   "execution_count": 45,
   "id": "77120c2c",
   "metadata": {},
   "outputs": [
    {
     "data": {
      "text/plain": [
       "[45, 22, 1]"
      ]
     },
     "execution_count": 45,
     "metadata": {},
     "output_type": "execute_result"
    }
   ],
   "source": [
    "lst"
   ]
  },
  {
   "cell_type": "code",
   "execution_count": 50,
   "id": "44fc204b",
   "metadata": {},
   "outputs": [],
   "source": [
    "l1=['ani','Hle','Ani']\n",
    "l1.sort(key=str.lower)"
   ]
  },
  {
   "cell_type": "code",
   "execution_count": 51,
   "id": "7b15e408",
   "metadata": {},
   "outputs": [
    {
     "data": {
      "text/plain": [
       "['ani', 'Ani', 'Hle']"
      ]
     },
     "execution_count": 51,
     "metadata": {},
     "output_type": "execute_result"
    }
   ],
   "source": [
    "l1"
   ]
  },
  {
   "cell_type": "code",
   "execution_count": 52,
   "id": "916535c8",
   "metadata": {},
   "outputs": [
    {
     "data": {
      "text/plain": [
       "1"
      ]
     },
     "execution_count": 52,
     "metadata": {},
     "output_type": "execute_result"
    }
   ],
   "source": [
    "lst.count(1)"
   ]
  },
  {
   "cell_type": "code",
   "execution_count": 54,
   "id": "92e990b6",
   "metadata": {},
   "outputs": [],
   "source": [
    "t1=(1,2,3,4)"
   ]
  },
  {
   "cell_type": "code",
   "execution_count": 55,
   "id": "292b6a46",
   "metadata": {},
   "outputs": [
    {
     "data": {
      "text/plain": [
       "4"
      ]
     },
     "execution_count": 55,
     "metadata": {},
     "output_type": "execute_result"
    }
   ],
   "source": [
    "len(t1)"
   ]
  },
  {
   "cell_type": "code",
   "execution_count": 56,
   "id": "b1beeda4",
   "metadata": {},
   "outputs": [
    {
     "data": {
      "text/plain": [
       "1"
      ]
     },
     "execution_count": 56,
     "metadata": {},
     "output_type": "execute_result"
    }
   ],
   "source": [
    "t1.count(1)"
   ]
  },
  {
   "cell_type": "code",
   "execution_count": 59,
   "id": "18cd8018",
   "metadata": {},
   "outputs": [],
   "source": [
    "s1={1,2,3}"
   ]
  },
  {
   "cell_type": "markdown",
   "id": "1f24854f",
   "metadata": {},
   "source": [
    "#"
   ]
  },
  {
   "cell_type": "code",
   "execution_count": 60,
   "id": "feb57938",
   "metadata": {},
   "outputs": [],
   "source": [
    "s1.add(5)"
   ]
  },
  {
   "cell_type": "code",
   "execution_count": 61,
   "id": "f2669ff9",
   "metadata": {},
   "outputs": [
    {
     "data": {
      "text/plain": [
       "{1, 2, 3, 5}"
      ]
     },
     "execution_count": 61,
     "metadata": {},
     "output_type": "execute_result"
    }
   ],
   "source": [
    "s1"
   ]
  },
  {
   "cell_type": "code",
   "execution_count": 63,
   "id": "6e876b70",
   "metadata": {},
   "outputs": [],
   "source": [
    "s1.discard(7)"
   ]
  },
  {
   "cell_type": "markdown",
   "id": "bfae6c28",
   "metadata": {},
   "source": [
    "# "
   ]
  },
  {
   "cell_type": "code",
   "execution_count": 64,
   "id": "d5535358",
   "metadata": {},
   "outputs": [],
   "source": [
    "s2={1,2,3}\n"
   ]
  },
  {
   "cell_type": "code",
   "execution_count": 65,
   "id": "0b482123",
   "metadata": {},
   "outputs": [
    {
     "data": {
      "text/plain": [
       "{1, 2, 3, 5}"
      ]
     },
     "execution_count": 65,
     "metadata": {},
     "output_type": "execute_result"
    }
   ],
   "source": [
    "s1.union(s2)"
   ]
  },
  {
   "cell_type": "code",
   "execution_count": 67,
   "id": "ad8f08a1",
   "metadata": {},
   "outputs": [
    {
     "data": {
      "text/plain": [
       "{1, 2, 3}"
      ]
     },
     "execution_count": 67,
     "metadata": {},
     "output_type": "execute_result"
    }
   ],
   "source": [
    "s1.intersection(s2)"
   ]
  },
  {
   "cell_type": "code",
   "execution_count": 68,
   "id": "daf4936d",
   "metadata": {},
   "outputs": [
    {
     "data": {
      "text/plain": [
       "False"
      ]
     },
     "execution_count": 68,
     "metadata": {},
     "output_type": "execute_result"
    }
   ],
   "source": [
    "s1.issubset(s2)"
   ]
  },
  {
   "cell_type": "code",
   "execution_count": 69,
   "id": "3f0cb00b",
   "metadata": {},
   "outputs": [
    {
     "data": {
      "text/plain": [
       "True"
      ]
     },
     "execution_count": 69,
     "metadata": {},
     "output_type": "execute_result"
    }
   ],
   "source": [
    "s2.issubset(s1)"
   ]
  },
  {
   "cell_type": "code",
   "execution_count": 74,
   "id": "f5b3ebd3",
   "metadata": {},
   "outputs": [],
   "source": [
    "has={0:2}\n",
    "for i in range(0,10):\n",
    "    has[i]=1+has.get(i,0)\n",
    "    "
   ]
  },
  {
   "cell_type": "code",
   "execution_count": 75,
   "id": "146fadfa",
   "metadata": {},
   "outputs": [
    {
     "data": {
      "text/plain": [
       "{0: 3, 1: 1, 2: 1, 3: 1, 4: 1, 5: 1, 6: 1, 7: 1, 8: 1, 9: 1}"
      ]
     },
     "execution_count": 75,
     "metadata": {},
     "output_type": "execute_result"
    }
   ],
   "source": [
    "has"
   ]
  },
  {
   "cell_type": "code",
   "execution_count": 78,
   "id": "cb3d8c6c",
   "metadata": {},
   "outputs": [
    {
     "name": "stdout",
     "output_type": "stream",
     "text": [
      "0 3\n",
      "1 1\n",
      "2 1\n",
      "3 1\n",
      "4 1\n",
      "5 1\n",
      "6 1\n",
      "7 1\n",
      "8 1\n",
      "9 1\n"
     ]
    }
   ],
   "source": [
    "for i,k in has.items():\n",
    "    print(i,k)"
   ]
  },
  {
   "cell_type": "code",
   "execution_count": 82,
   "id": "8bc83db3",
   "metadata": {},
   "outputs": [
    {
     "name": "stdout",
     "output_type": "stream",
     "text": [
      "0\n",
      "1\n",
      "2\n",
      "3\n",
      "4\n",
      "5\n",
      "6\n",
      "7\n",
      "8\n",
      "9\n"
     ]
    }
   ],
   "source": [
    "for i in has:\n",
    "    print(i)"
   ]
  },
  {
   "cell_type": "code",
   "execution_count": 83,
   "id": "b523e357",
   "metadata": {},
   "outputs": [
    {
     "name": "stdout",
     "output_type": "stream",
     "text": [
      "name ani\n",
      "age 20\n"
     ]
    }
   ],
   "source": [
    "l1=['name','age']\n",
    "l2=['ani',20]\n",
    "\n",
    "for i,k in zip(l1,l2):\n",
    "    print(i,k)"
   ]
  },
  {
   "cell_type": "code",
   "execution_count": 84,
   "id": "b376fa9a",
   "metadata": {},
   "outputs": [
    {
     "name": "stdout",
     "output_type": "stream",
     "text": [
      "1\n",
      "2\n",
      "3\n",
      "4\n"
     ]
    }
   ],
   "source": [
    "def func(ls):\n",
    "    for i in ls:\n",
    "        print(i)\n",
    "func([1,2,3,4])"
   ]
  },
  {
   "cell_type": "code",
   "execution_count": 91,
   "id": "59126a7c",
   "metadata": {},
   "outputs": [
    {
     "name": "stdout",
     "output_type": "stream",
     "text": [
      "(1, 2, 3, 4)\n"
     ]
    }
   ],
   "source": [
    "#*args\n",
    "def func(*ls):\n",
    "    print(*ls)\n",
    "func((1,2,3,4))"
   ]
  },
  {
   "cell_type": "code",
   "execution_count": 95,
   "id": "8f4a334a",
   "metadata": {},
   "outputs": [
    {
     "data": {
      "text/plain": [
       "[2, 4]"
      ]
     },
     "execution_count": 95,
     "metadata": {},
     "output_type": "execute_result"
    }
   ],
   "source": [
    "func= lambda x:[i for i in x if i%2==0]\n",
    "func([1,2,3,4])"
   ]
  },
  {
   "cell_type": "code",
   "execution_count": 100,
   "id": "91e9d5cd",
   "metadata": {},
   "outputs": [
    {
     "name": "stdout",
     "output_type": "stream",
     "text": [
      "50\n"
     ]
    }
   ],
   "source": [
    "#use of *args (we use it when the number of input is not known)\n",
    "\n",
    "def square(side):\n",
    "    return (side*side)\n",
    "def rectangle(length,breadth):\n",
    "    return (length*breadth)\n",
    "    \n",
    "def area(shape,*args):\n",
    "    print(shape(*args))\n",
    "area(rectangle,5,10)"
   ]
  },
  {
   "cell_type": "code",
   "execution_count": 102,
   "id": "78d83e1d",
   "metadata": {},
   "outputs": [
    {
     "name": "stdout",
     "output_type": "stream",
     "text": [
      "11 name\n",
      "12 age\n"
     ]
    }
   ],
   "source": [
    "#if i want to print both key value pairs together then\n",
    "\n",
    "# so giving 11 will start from index number 11\n",
    "for i,k in enumerate(l1,11):\n",
    "    print(i,k)"
   ]
  },
  {
   "cell_type": "code",
   "execution_count": null,
   "id": "397d8213",
   "metadata": {},
   "outputs": [],
   "source": [
    "#3 types of programming\n",
    "# 1) procedural\n",
    "# 2)functional\n",
    "# 3)oops\n",
    "\n"
   ]
  },
  {
   "cell_type": "code",
   "execution_count": 106,
   "id": "ffda08fb",
   "metadata": {},
   "outputs": [
    {
     "data": {
      "text/plain": [
       "False"
      ]
     },
     "execution_count": 106,
     "metadata": {},
     "output_type": "execute_result"
    }
   ],
   "source": [
    "num=10\n",
    "#gives all the list of magic methods\n",
    "dir(num)\n",
    "\n",
    "#this is one of the magic method which runs behind <\n",
    "num.__lt__(5)\n",
    "\n"
   ]
  },
  {
   "cell_type": "code",
   "execution_count": 115,
   "id": "e67353f8",
   "metadata": {},
   "outputs": [
    {
     "data": {
      "text/plain": [
       "{'name': 'Tomato', 'price': 20, 'quantity': 15}"
      ]
     },
     "execution_count": 115,
     "metadata": {},
     "output_type": "execute_result"
    }
   ],
   "source": [
    "class Item:\n",
    "    def __init__(self,name,price,quantity):\n",
    "        #assert is used to invoke custom error\n",
    "        assert price>=0, f\"{price} must be greater than 0\"\n",
    "        self.name=name\n",
    "        self.price=price\n",
    "        self.quantity=quantity\n",
    "iphone=Item('14 pro',85000,1)\n",
    "\n",
    "#backcase is not for all objects hence will define for that only\n",
    "iphone.backcase=True\n",
    "\n",
    "#inside th class only generic property must be defined\n",
    "Tomato=Item('Tomato',20,15)\n",
    "\n",
    "#dict gives all the the data defined\n",
    "iphone.__dict__\n",
    "Tomato.__dict__"
   ]
  },
  {
   "cell_type": "code",
   "execution_count": 116,
   "id": "3913e55b",
   "metadata": {},
   "outputs": [],
   "source": [
    "# class variables must be invoked this way\n",
    "class Item:\n",
    "    discount=0.2\n",
    "    def __init__(self,name,price,quantity):\n",
    "        #assert is used to invoke custom error\n",
    "        assert price>=0, f\"{price} must be greater than 0\"\n",
    "        self.name=name\n",
    "        self.price=price-price*Item.discount\n",
    "        self.quantity=quantity\n",
    "        \n",
    "iphone=Item('14 pro',85000,1)\n"
   ]
  },
  {
   "cell_type": "code",
   "execution_count": 117,
   "id": "a92dfe83",
   "metadata": {},
   "outputs": [
    {
     "data": {
      "text/plain": [
       "{'name': '14 pro', 'price': 68000.0, 'quantity': 1}"
      ]
     },
     "execution_count": 117,
     "metadata": {},
     "output_type": "execute_result"
    }
   ],
   "source": [
    "iphone.__dict__"
   ]
  },
  {
   "cell_type": "code",
   "execution_count": 123,
   "id": "96d356e6",
   "metadata": {},
   "outputs": [
    {
     "name": "stdout",
     "output_type": "stream",
     "text": [
      "om\n"
     ]
    }
   ],
   "source": [
    "#OOPS\n",
    "\n",
    "class ATM:\n",
    "    o_username=\"om\"\n",
    "    o_password=\"12345\"\n",
    "    \n",
    "    def __init__(self,username,password):\n",
    "        self.username=username\n",
    "        self.password=password\n",
    "    def validate(self):\n",
    "        if(ATM.o_username==self.username and ATM.o_password==self.password):\n",
    "            return True\n",
    "        return False\n",
    "\n",
    "ani=ATM(\"ani\",\"1234\")\n",
    "ani.__dict__\n",
    "# ani.validate()\n",
    "#hence need to do encapsulation\n",
    "print(ani.o_username)\n",
    "    \n",
    "    "
   ]
  },
  {
   "cell_type": "code",
   "execution_count": 134,
   "id": "3ebf5327",
   "metadata": {},
   "outputs": [],
   "source": [
    "class ATM:\n",
    "    #made it protected\n",
    "    #this is valid for all objects\n",
    "    __o_username=\"om\"\n",
    "    __o_password=\"12345\"\n",
    "    \n",
    "    def __init__(self,username,password):\n",
    "        self.username=username\n",
    "        self.password=password\n",
    "    def validate(self):\n",
    "        if(ATM.__o_username==self.username and ATM.__o_password==self.password):\n",
    "            return True\n",
    "        return False\n",
    "    \n",
    "    def getter(self):\n",
    "        if(self.validate()):\n",
    "            return ATM.__o_username\n",
    "    def setter(self,newuser):\n",
    "        if(self.validate()):\n",
    "            ATM.__o_username=newuser  \n",
    "\n",
    "ani=ATM(\"om\",\"12345\")\n",
    "ani.__dict__\n",
    "# ani.validate()\n",
    "#hence need to do encapsulation\n",
    "#hence cannot be accessed\n",
    "# print(ani.__o_username)\n",
    "\n",
    "ani.getter()\n",
    "ani.setter('ani')\n",
    "ani.getter()"
   ]
  },
  {
   "cell_type": "code",
   "execution_count": 139,
   "id": "5731b6d1",
   "metadata": {},
   "outputs": [
    {
     "data": {
      "text/plain": [
       "'Father'"
      ]
     },
     "execution_count": 139,
     "metadata": {},
     "output_type": "execute_result"
    }
   ],
   "source": [
    "#single level\n",
    "class Father:\n",
    "    def __init__(self):\n",
    "        self.name=\"Father\"\n",
    "    def display(self):\n",
    "        print(\"Father\")\n",
    "class Child(Father):\n",
    "    def __init__(self,age):\n",
    "        super().__init__()\n",
    "        self.age=age\n",
    "\n",
    "c1=Child(15)\n",
    "c1.name\n",
    "    \n",
    "    "
   ]
  },
  {
   "cell_type": "code",
   "execution_count": 140,
   "id": "3691f6b1",
   "metadata": {},
   "outputs": [
    {
     "data": {
      "text/plain": [
       "'Mother'"
      ]
     },
     "execution_count": 140,
     "metadata": {},
     "output_type": "execute_result"
    }
   ],
   "source": [
    "#multiple inheritance (the first written will be taken)\n",
    "class Father:\n",
    "    def __init__(self):\n",
    "        self.name=\"Father\"\n",
    "    def display(self):\n",
    "        print(\"Father\")\n",
    "class Mother:\n",
    "    def __init__(self):\n",
    "        self.name=\"Mother\"\n",
    "    def display(self):\n",
    "        print(\"Mother\")\n",
    "class Child(Mother,Father):\n",
    "    def __init__(self,age):\n",
    "        super().__init__()\n",
    "        self.age=age\n",
    "\n",
    "c1=Child(15)\n",
    "c1.name\n",
    "    \n",
    "    "
   ]
  },
  {
   "cell_type": "code",
   "execution_count": null,
   "id": "e6869b0b",
   "metadata": {},
   "outputs": [],
   "source": []
  },
  {
   "cell_type": "code",
   "execution_count": 144,
   "id": "bdc869d0",
   "metadata": {},
   "outputs": [],
   "source": [
    "#abstraction\n",
    "from abc import ABC,abstractmethod"
   ]
  },
  {
   "cell_type": "code",
   "execution_count": 148,
   "id": "09e41b39",
   "metadata": {},
   "outputs": [],
   "source": [
    "class Area(ABC):\n",
    "    @abstractmethod\n",
    "    def area(self):\n",
    "        pass\n",
    "class Square(Area):\n",
    "    def area(self,side):\n",
    "        print(side*side)\n",
    "\n",
    "s1=Square()"
   ]
  },
  {
   "cell_type": "code",
   "execution_count": 149,
   "id": "9a5d93c2",
   "metadata": {},
   "outputs": [
    {
     "name": "stdout",
     "output_type": "stream",
     "text": [
      "144\n"
     ]
    }
   ],
   "source": [
    "s1.area(12)"
   ]
  },
  {
   "cell_type": "code",
   "execution_count": 151,
   "id": "95fbe0c4",
   "metadata": {},
   "outputs": [
    {
     "data": {
      "text/plain": [
       "[1, 2, 3, 4, 1, 2, 3, 4]"
      ]
     },
     "execution_count": 151,
     "metadata": {},
     "output_type": "execute_result"
    }
   ],
   "source": [
    "li1=[1,2,3,4]\n",
    "\n",
    "li1*2"
   ]
  },
  {
   "cell_type": "code",
   "execution_count": 152,
   "id": "235614fb",
   "metadata": {},
   "outputs": [],
   "source": [
    "# now to multiply in list is too difficult\n",
    "\n",
    "# to make it easy\n",
    "import numpy as np"
   ]
  },
  {
   "cell_type": "code",
   "execution_count": 153,
   "id": "f29f66eb",
   "metadata": {},
   "outputs": [],
   "source": [
    "n1=np.array(li1)"
   ]
  },
  {
   "cell_type": "code",
   "execution_count": 154,
   "id": "b25ed654",
   "metadata": {},
   "outputs": [
    {
     "data": {
      "text/plain": [
       "array([1, 2, 3, 4])"
      ]
     },
     "execution_count": 154,
     "metadata": {},
     "output_type": "execute_result"
    }
   ],
   "source": [
    "n1"
   ]
  },
  {
   "cell_type": "code",
   "execution_count": 155,
   "id": "48d04099",
   "metadata": {},
   "outputs": [
    {
     "data": {
      "text/plain": [
       "array([2, 4, 6, 8])"
      ]
     },
     "execution_count": 155,
     "metadata": {},
     "output_type": "execute_result"
    }
   ],
   "source": [
    "n1*2 #multiplies by 2"
   ]
  },
  {
   "cell_type": "code",
   "execution_count": 161,
   "id": "6fb03f2e",
   "metadata": {},
   "outputs": [
    {
     "data": {
      "text/plain": [
       "array([[1],\n",
       "       [3],\n",
       "       [5],\n",
       "       [7],\n",
       "       [9]])"
      ]
     },
     "execution_count": 161,
     "metadata": {},
     "output_type": "execute_result"
    }
   ],
   "source": [
    "np.arange(1,10,2).reshape(5,1)"
   ]
  },
  {
   "cell_type": "code",
   "execution_count": 166,
   "id": "ab7279a1",
   "metadata": {},
   "outputs": [
    {
     "data": {
      "text/plain": [
       "array([[1, 1, 1, 1, 1, 1, 1, 1, 1, 1]])"
      ]
     },
     "execution_count": 166,
     "metadata": {},
     "output_type": "execute_result"
    }
   ],
   "source": [
    "np.ones((1,10),dtype=int)"
   ]
  },
  {
   "cell_type": "code",
   "execution_count": 167,
   "id": "800d7543",
   "metadata": {},
   "outputs": [
    {
     "data": {
      "text/plain": [
       "array([[0., 0., 0., 0., 0.],\n",
       "       [0., 0., 0., 0., 0.],\n",
       "       [0., 0., 0., 0., 0.],\n",
       "       [0., 0., 0., 0., 0.],\n",
       "       [0., 0., 0., 0., 0.]])"
      ]
     },
     "execution_count": 167,
     "metadata": {},
     "output_type": "execute_result"
    }
   ],
   "source": [
    "np.zeros((5,5))"
   ]
  },
  {
   "cell_type": "code",
   "execution_count": 172,
   "id": "da7942e5",
   "metadata": {},
   "outputs": [
    {
     "data": {
      "text/plain": [
       "array([[1., 0., 0., 0., 0.],\n",
       "       [0., 1., 0., 0., 0.],\n",
       "       [0., 0., 1., 0., 0.],\n",
       "       [0., 0., 0., 1., 0.],\n",
       "       [0., 0., 0., 0., 1.]])"
      ]
     },
     "execution_count": 172,
     "metadata": {},
     "output_type": "execute_result"
    }
   ],
   "source": [
    "#diagonal marix of 1\n",
    "np.eye(5)"
   ]
  },
  {
   "cell_type": "code",
   "execution_count": 173,
   "id": "3744d1d1",
   "metadata": {},
   "outputs": [
    {
     "data": {
      "text/plain": [
       "array([[1, 0],\n",
       "       [0, 2]])"
      ]
     },
     "execution_count": 173,
     "metadata": {},
     "output_type": "execute_result"
    }
   ],
   "source": [
    "np.diag([1,2])"
   ]
  },
  {
   "cell_type": "code",
   "execution_count": 175,
   "id": "f0c51c2f",
   "metadata": {},
   "outputs": [
    {
     "data": {
      "text/plain": [
       "array([[3, 1, 5, 8],\n",
       "       [6, 8, 3, 4],\n",
       "       [5, 1, 1, 1],\n",
       "       [5, 9, 7, 2]])"
      ]
     },
     "execution_count": 175,
     "metadata": {},
     "output_type": "execute_result"
    }
   ],
   "source": [
    "np.random.randint(1,10,size=(4,4))"
   ]
  },
  {
   "cell_type": "code",
   "execution_count": 176,
   "id": "902769ee",
   "metadata": {},
   "outputs": [
    {
     "data": {
      "text/plain": [
       "array([ 0.        ,  1.02040816,  2.04081633,  3.06122449,  4.08163265,\n",
       "        5.10204082,  6.12244898,  7.14285714,  8.16326531,  9.18367347,\n",
       "       10.20408163, 11.2244898 , 12.24489796, 13.26530612, 14.28571429,\n",
       "       15.30612245, 16.32653061, 17.34693878, 18.36734694, 19.3877551 ,\n",
       "       20.40816327, 21.42857143, 22.44897959, 23.46938776, 24.48979592,\n",
       "       25.51020408, 26.53061224, 27.55102041, 28.57142857, 29.59183673,\n",
       "       30.6122449 , 31.63265306, 32.65306122, 33.67346939, 34.69387755,\n",
       "       35.71428571, 36.73469388, 37.75510204, 38.7755102 , 39.79591837,\n",
       "       40.81632653, 41.83673469, 42.85714286, 43.87755102, 44.89795918,\n",
       "       45.91836735, 46.93877551, 47.95918367, 48.97959184, 50.        ])"
      ]
     },
     "execution_count": 176,
     "metadata": {},
     "output_type": "execute_result"
    }
   ],
   "source": [
    "np.linspace(0,50)"
   ]
  },
  {
   "cell_type": "code",
   "execution_count": 177,
   "id": "5c9f3fd8",
   "metadata": {},
   "outputs": [],
   "source": [
    "n1=np.random.randint(1,10,size=(3,3))"
   ]
  },
  {
   "cell_type": "code",
   "execution_count": 178,
   "id": "d56ce70e",
   "metadata": {},
   "outputs": [],
   "source": [
    "n2=np.random.randint(1,10,size=(3,3))"
   ]
  },
  {
   "cell_type": "code",
   "execution_count": 179,
   "id": "4f0dd7b3",
   "metadata": {},
   "outputs": [
    {
     "data": {
      "text/plain": [
       "array([[ 6, 10, 14],\n",
       "       [16,  7,  3],\n",
       "       [ 9,  4,  9]])"
      ]
     },
     "execution_count": 179,
     "metadata": {},
     "output_type": "execute_result"
    }
   ],
   "source": [
    "n1+n2"
   ]
  },
  {
   "cell_type": "code",
   "execution_count": 180,
   "id": "4ce5ae85",
   "metadata": {},
   "outputs": [
    {
     "data": {
      "text/plain": [
       "2.321928094887362"
      ]
     },
     "execution_count": 180,
     "metadata": {},
     "output_type": "execute_result"
    }
   ],
   "source": [
    "np.log2(5)"
   ]
  },
  {
   "cell_type": "code",
   "execution_count": 183,
   "id": "2e70db8d",
   "metadata": {},
   "outputs": [
    {
     "data": {
      "text/plain": [
       "array([1, 1, 1])"
      ]
     },
     "execution_count": 183,
     "metadata": {},
     "output_type": "execute_result"
    }
   ],
   "source": [
    "np.min(n1,axis=1)"
   ]
  },
  {
   "cell_type": "code",
   "execution_count": 190,
   "id": "10d629d6",
   "metadata": {},
   "outputs": [
    {
     "data": {
      "text/plain": [
       "array([[1, 7, 7],\n",
       "       [7, 1, 1]])"
      ]
     },
     "execution_count": 190,
     "metadata": {},
     "output_type": "execute_result"
    }
   ],
   "source": [
    "n1[0:2,0:3]"
   ]
  },
  {
   "cell_type": "code",
   "execution_count": 192,
   "id": "cd7712b8",
   "metadata": {},
   "outputs": [
    {
     "data": {
      "text/plain": [
       "array([[1, 7, 7],\n",
       "       [7, 1, 1],\n",
       "       [3, 1, 7]])"
      ]
     },
     "execution_count": 192,
     "metadata": {},
     "output_type": "execute_result"
    }
   ],
   "source": [
    "n1"
   ]
  },
  {
   "cell_type": "code",
   "execution_count": 193,
   "id": "1adf9b7f",
   "metadata": {},
   "outputs": [
    {
     "data": {
      "text/plain": [
       "array([[ True,  True,  True],\n",
       "       [ True,  True,  True],\n",
       "       [ True,  True,  True]])"
      ]
     },
     "execution_count": 193,
     "metadata": {},
     "output_type": "execute_result"
    }
   ],
   "source": [
    "n1>0"
   ]
  },
  {
   "cell_type": "code",
   "execution_count": 195,
   "id": "8b15912c",
   "metadata": {},
   "outputs": [
    {
     "data": {
      "text/plain": [
       "array([7, 7, 7, 7])"
      ]
     },
     "execution_count": 195,
     "metadata": {},
     "output_type": "execute_result"
    }
   ],
   "source": [
    "n1[n1>5]"
   ]
  },
  {
   "cell_type": "code",
   "execution_count": 196,
   "id": "ea353580",
   "metadata": {},
   "outputs": [
    {
     "data": {
      "text/plain": [
       "array([[1, 7, 7],\n",
       "       [7, 1, 1],\n",
       "       [3, 1, 7],\n",
       "       [5, 3, 7],\n",
       "       [9, 6, 2],\n",
       "       [6, 3, 2]])"
      ]
     },
     "execution_count": 196,
     "metadata": {},
     "output_type": "execute_result"
    }
   ],
   "source": [
    "np.vstack((n1,n2))"
   ]
  },
  {
   "cell_type": "code",
   "execution_count": 197,
   "id": "ba28715c",
   "metadata": {},
   "outputs": [
    {
     "data": {
      "text/plain": [
       "array([[1, 7, 7, 5, 3, 7],\n",
       "       [7, 1, 1, 9, 6, 2],\n",
       "       [3, 1, 7, 6, 3, 2]])"
      ]
     },
     "execution_count": 197,
     "metadata": {},
     "output_type": "execute_result"
    }
   ],
   "source": [
    "np.hstack((n1,n2))"
   ]
  },
  {
   "cell_type": "code",
   "execution_count": 202,
   "id": "6fa9b1c0",
   "metadata": {},
   "outputs": [
    {
     "data": {
      "text/plain": [
       "array([[1, 7, 7, 5, 3, 7],\n",
       "       [7, 1, 1, 9, 6, 2],\n",
       "       [3, 1, 7, 6, 3, 2]])"
      ]
     },
     "execution_count": 202,
     "metadata": {},
     "output_type": "execute_result"
    }
   ],
   "source": [
    "np.concatenate((n1,n2),axis=1)"
   ]
  },
  {
   "cell_type": "code",
   "execution_count": 204,
   "id": "ffb6d42e",
   "metadata": {},
   "outputs": [
    {
     "data": {
      "text/plain": [
       "(3, 3)"
      ]
     },
     "execution_count": 204,
     "metadata": {},
     "output_type": "execute_result"
    }
   ],
   "source": [
    "n1.shape"
   ]
  },
  {
   "cell_type": "markdown",
   "id": "08627656",
   "metadata": {},
   "source": []
  },
  {
   "cell_type": "code",
   "execution_count": 205,
   "id": "3e6222a0",
   "metadata": {},
   "outputs": [
    {
     "data": {
      "text/plain": [
       "9"
      ]
     },
     "execution_count": 205,
     "metadata": {},
     "output_type": "execute_result"
    }
   ],
   "source": [
    "n1.size"
   ]
  },
  {
   "cell_type": "code",
   "execution_count": 210,
   "id": "7293b0e2",
   "metadata": {},
   "outputs": [
    {
     "data": {
      "text/plain": [
       "array([[1, 7, 3],\n",
       "       [7, 1, 1],\n",
       "       [7, 1, 7]])"
      ]
     },
     "execution_count": 210,
     "metadata": {},
     "output_type": "execute_result"
    }
   ],
   "source": [
    "n1.T"
   ]
  },
  {
   "cell_type": "code",
   "execution_count": 212,
   "id": "15638be7",
   "metadata": {},
   "outputs": [],
   "source": [
    "import pandas as pd"
   ]
  },
  {
   "cell_type": "code",
   "execution_count": 213,
   "id": "bd67adcc",
   "metadata": {},
   "outputs": [],
   "source": [
    "df=pd.read_csv('market_fact.csv')"
   ]
  },
  {
   "cell_type": "code",
   "execution_count": 214,
   "id": "961bc19a",
   "metadata": {},
   "outputs": [
    {
     "data": {
      "text/html": [
       "<div>\n",
       "<style scoped>\n",
       "    .dataframe tbody tr th:only-of-type {\n",
       "        vertical-align: middle;\n",
       "    }\n",
       "\n",
       "    .dataframe tbody tr th {\n",
       "        vertical-align: top;\n",
       "    }\n",
       "\n",
       "    .dataframe thead th {\n",
       "        text-align: right;\n",
       "    }\n",
       "</style>\n",
       "<table border=\"1\" class=\"dataframe\">\n",
       "  <thead>\n",
       "    <tr style=\"text-align: right;\">\n",
       "      <th></th>\n",
       "      <th>Ord_id</th>\n",
       "      <th>Prod_id</th>\n",
       "      <th>Ship_id</th>\n",
       "      <th>Cust_id</th>\n",
       "      <th>Sales</th>\n",
       "      <th>Discount</th>\n",
       "      <th>Order_Quantity</th>\n",
       "      <th>Profit</th>\n",
       "      <th>Shipping_Cost</th>\n",
       "      <th>Product_Base_Margin</th>\n",
       "    </tr>\n",
       "  </thead>\n",
       "  <tbody>\n",
       "    <tr>\n",
       "      <th>0</th>\n",
       "      <td>Ord_5446</td>\n",
       "      <td>Prod_16</td>\n",
       "      <td>SHP_7609</td>\n",
       "      <td>Cust_1818</td>\n",
       "      <td>136.81</td>\n",
       "      <td>0.01</td>\n",
       "      <td>23</td>\n",
       "      <td>-30.51</td>\n",
       "      <td>3.60</td>\n",
       "      <td>0.56</td>\n",
       "    </tr>\n",
       "    <tr>\n",
       "      <th>1</th>\n",
       "      <td>Ord_5406</td>\n",
       "      <td>Prod_13</td>\n",
       "      <td>SHP_7549</td>\n",
       "      <td>Cust_1818</td>\n",
       "      <td>42.27</td>\n",
       "      <td>0.01</td>\n",
       "      <td>13</td>\n",
       "      <td>4.56</td>\n",
       "      <td>0.93</td>\n",
       "      <td>0.54</td>\n",
       "    </tr>\n",
       "    <tr>\n",
       "      <th>2</th>\n",
       "      <td>Ord_5446</td>\n",
       "      <td>Prod_4</td>\n",
       "      <td>SHP_7610</td>\n",
       "      <td>Cust_1818</td>\n",
       "      <td>4701.69</td>\n",
       "      <td>0.00</td>\n",
       "      <td>26</td>\n",
       "      <td>1148.90</td>\n",
       "      <td>2.50</td>\n",
       "      <td>0.59</td>\n",
       "    </tr>\n",
       "    <tr>\n",
       "      <th>3</th>\n",
       "      <td>Ord_5456</td>\n",
       "      <td>Prod_6</td>\n",
       "      <td>SHP_7625</td>\n",
       "      <td>Cust_1818</td>\n",
       "      <td>2337.89</td>\n",
       "      <td>0.09</td>\n",
       "      <td>43</td>\n",
       "      <td>729.34</td>\n",
       "      <td>14.30</td>\n",
       "      <td>0.37</td>\n",
       "    </tr>\n",
       "    <tr>\n",
       "      <th>4</th>\n",
       "      <td>Ord_5485</td>\n",
       "      <td>Prod_17</td>\n",
       "      <td>SHP_7664</td>\n",
       "      <td>Cust_1818</td>\n",
       "      <td>4233.15</td>\n",
       "      <td>0.08</td>\n",
       "      <td>35</td>\n",
       "      <td>1219.87</td>\n",
       "      <td>26.30</td>\n",
       "      <td>0.38</td>\n",
       "    </tr>\n",
       "  </tbody>\n",
       "</table>\n",
       "</div>"
      ],
      "text/plain": [
       "     Ord_id  Prod_id   Ship_id    Cust_id    Sales  Discount  Order_Quantity  \\\n",
       "0  Ord_5446  Prod_16  SHP_7609  Cust_1818   136.81      0.01              23   \n",
       "1  Ord_5406  Prod_13  SHP_7549  Cust_1818    42.27      0.01              13   \n",
       "2  Ord_5446   Prod_4  SHP_7610  Cust_1818  4701.69      0.00              26   \n",
       "3  Ord_5456   Prod_6  SHP_7625  Cust_1818  2337.89      0.09              43   \n",
       "4  Ord_5485  Prod_17  SHP_7664  Cust_1818  4233.15      0.08              35   \n",
       "\n",
       "    Profit  Shipping_Cost  Product_Base_Margin  \n",
       "0   -30.51           3.60                 0.56  \n",
       "1     4.56           0.93                 0.54  \n",
       "2  1148.90           2.50                 0.59  \n",
       "3   729.34          14.30                 0.37  \n",
       "4  1219.87          26.30                 0.38  "
      ]
     },
     "execution_count": 214,
     "metadata": {},
     "output_type": "execute_result"
    }
   ],
   "source": [
    "df.head()"
   ]
  },
  {
   "cell_type": "code",
   "execution_count": 216,
   "id": "bfbc33ba",
   "metadata": {},
   "outputs": [
    {
     "data": {
      "text/plain": [
       "(8399, 10)"
      ]
     },
     "execution_count": 216,
     "metadata": {},
     "output_type": "execute_result"
    }
   ],
   "source": [
    "df.shape"
   ]
  },
  {
   "cell_type": "code",
   "execution_count": 217,
   "id": "0c719eca",
   "metadata": {},
   "outputs": [
    {
     "name": "stdout",
     "output_type": "stream",
     "text": [
      "<class 'pandas.core.frame.DataFrame'>\n",
      "RangeIndex: 8399 entries, 0 to 8398\n",
      "Data columns (total 10 columns):\n",
      " #   Column               Non-Null Count  Dtype  \n",
      "---  ------               --------------  -----  \n",
      " 0   Ord_id               8399 non-null   object \n",
      " 1   Prod_id              8399 non-null   object \n",
      " 2   Ship_id              8399 non-null   object \n",
      " 3   Cust_id              8399 non-null   object \n",
      " 4   Sales                8399 non-null   float64\n",
      " 5   Discount             8399 non-null   float64\n",
      " 6   Order_Quantity       8399 non-null   int64  \n",
      " 7   Profit               8399 non-null   float64\n",
      " 8   Shipping_Cost        8399 non-null   float64\n",
      " 9   Product_Base_Margin  8336 non-null   float64\n",
      "dtypes: float64(5), int64(1), object(4)\n",
      "memory usage: 656.3+ KB\n"
     ]
    }
   ],
   "source": [
    "df.info()"
   ]
  },
  {
   "cell_type": "code",
   "execution_count": 218,
   "id": "194d3ba4",
   "metadata": {},
   "outputs": [
    {
     "data": {
      "text/html": [
       "<div>\n",
       "<style scoped>\n",
       "    .dataframe tbody tr th:only-of-type {\n",
       "        vertical-align: middle;\n",
       "    }\n",
       "\n",
       "    .dataframe tbody tr th {\n",
       "        vertical-align: top;\n",
       "    }\n",
       "\n",
       "    .dataframe thead th {\n",
       "        text-align: right;\n",
       "    }\n",
       "</style>\n",
       "<table border=\"1\" class=\"dataframe\">\n",
       "  <thead>\n",
       "    <tr style=\"text-align: right;\">\n",
       "      <th></th>\n",
       "      <th>Sales</th>\n",
       "      <th>Discount</th>\n",
       "      <th>Order_Quantity</th>\n",
       "      <th>Profit</th>\n",
       "      <th>Shipping_Cost</th>\n",
       "      <th>Product_Base_Margin</th>\n",
       "    </tr>\n",
       "  </thead>\n",
       "  <tbody>\n",
       "    <tr>\n",
       "      <th>count</th>\n",
       "      <td>8399.000000</td>\n",
       "      <td>8399.000000</td>\n",
       "      <td>8399.000000</td>\n",
       "      <td>8399.000000</td>\n",
       "      <td>8399.000000</td>\n",
       "      <td>8336.000000</td>\n",
       "    </tr>\n",
       "    <tr>\n",
       "      <th>mean</th>\n",
       "      <td>1775.878179</td>\n",
       "      <td>0.049671</td>\n",
       "      <td>25.571735</td>\n",
       "      <td>181.184424</td>\n",
       "      <td>12.838557</td>\n",
       "      <td>0.512513</td>\n",
       "    </tr>\n",
       "    <tr>\n",
       "      <th>std</th>\n",
       "      <td>3585.050525</td>\n",
       "      <td>0.031823</td>\n",
       "      <td>14.481071</td>\n",
       "      <td>1196.653371</td>\n",
       "      <td>17.264052</td>\n",
       "      <td>0.135589</td>\n",
       "    </tr>\n",
       "    <tr>\n",
       "      <th>min</th>\n",
       "      <td>2.240000</td>\n",
       "      <td>0.000000</td>\n",
       "      <td>1.000000</td>\n",
       "      <td>-14140.700000</td>\n",
       "      <td>0.490000</td>\n",
       "      <td>0.350000</td>\n",
       "    </tr>\n",
       "    <tr>\n",
       "      <th>25%</th>\n",
       "      <td>143.195000</td>\n",
       "      <td>0.020000</td>\n",
       "      <td>13.000000</td>\n",
       "      <td>-83.315000</td>\n",
       "      <td>3.300000</td>\n",
       "      <td>0.380000</td>\n",
       "    </tr>\n",
       "    <tr>\n",
       "      <th>50%</th>\n",
       "      <td>449.420000</td>\n",
       "      <td>0.050000</td>\n",
       "      <td>26.000000</td>\n",
       "      <td>-1.500000</td>\n",
       "      <td>6.070000</td>\n",
       "      <td>0.520000</td>\n",
       "    </tr>\n",
       "    <tr>\n",
       "      <th>75%</th>\n",
       "      <td>1709.320000</td>\n",
       "      <td>0.080000</td>\n",
       "      <td>38.000000</td>\n",
       "      <td>162.750000</td>\n",
       "      <td>13.990000</td>\n",
       "      <td>0.590000</td>\n",
       "    </tr>\n",
       "    <tr>\n",
       "      <th>max</th>\n",
       "      <td>89061.050000</td>\n",
       "      <td>0.250000</td>\n",
       "      <td>50.000000</td>\n",
       "      <td>27220.690000</td>\n",
       "      <td>164.730000</td>\n",
       "      <td>0.850000</td>\n",
       "    </tr>\n",
       "  </tbody>\n",
       "</table>\n",
       "</div>"
      ],
      "text/plain": [
       "              Sales     Discount  Order_Quantity        Profit  Shipping_Cost  \\\n",
       "count   8399.000000  8399.000000     8399.000000   8399.000000    8399.000000   \n",
       "mean    1775.878179     0.049671       25.571735    181.184424      12.838557   \n",
       "std     3585.050525     0.031823       14.481071   1196.653371      17.264052   \n",
       "min        2.240000     0.000000        1.000000 -14140.700000       0.490000   \n",
       "25%      143.195000     0.020000       13.000000    -83.315000       3.300000   \n",
       "50%      449.420000     0.050000       26.000000     -1.500000       6.070000   \n",
       "75%     1709.320000     0.080000       38.000000    162.750000      13.990000   \n",
       "max    89061.050000     0.250000       50.000000  27220.690000     164.730000   \n",
       "\n",
       "       Product_Base_Margin  \n",
       "count          8336.000000  \n",
       "mean              0.512513  \n",
       "std               0.135589  \n",
       "min               0.350000  \n",
       "25%               0.380000  \n",
       "50%               0.520000  \n",
       "75%               0.590000  \n",
       "max               0.850000  "
      ]
     },
     "execution_count": 218,
     "metadata": {},
     "output_type": "execute_result"
    }
   ],
   "source": [
    "df.describe()"
   ]
  },
  {
   "cell_type": "code",
   "execution_count": 219,
   "id": "3969cb40",
   "metadata": {},
   "outputs": [
    {
     "data": {
      "text/html": [
       "<div>\n",
       "<style scoped>\n",
       "    .dataframe tbody tr th:only-of-type {\n",
       "        vertical-align: middle;\n",
       "    }\n",
       "\n",
       "    .dataframe tbody tr th {\n",
       "        vertical-align: top;\n",
       "    }\n",
       "\n",
       "    .dataframe thead th {\n",
       "        text-align: right;\n",
       "    }\n",
       "</style>\n",
       "<table border=\"1\" class=\"dataframe\">\n",
       "  <thead>\n",
       "    <tr style=\"text-align: right;\">\n",
       "      <th></th>\n",
       "      <th>Ord_id</th>\n",
       "      <th>Prod_id</th>\n",
       "      <th>Ship_id</th>\n",
       "      <th>Cust_id</th>\n",
       "      <th>Sales</th>\n",
       "      <th>Discount</th>\n",
       "      <th>Order_Quantity</th>\n",
       "      <th>Profit</th>\n",
       "      <th>Shipping_Cost</th>\n",
       "      <th>Product_Base_Margin</th>\n",
       "    </tr>\n",
       "  </thead>\n",
       "  <tbody>\n",
       "    <tr>\n",
       "      <th>0</th>\n",
       "      <td>Ord_5446</td>\n",
       "      <td>Prod_16</td>\n",
       "      <td>SHP_7609</td>\n",
       "      <td>Cust_1818</td>\n",
       "      <td>136.8100</td>\n",
       "      <td>0.01</td>\n",
       "      <td>23</td>\n",
       "      <td>-30.51</td>\n",
       "      <td>3.60</td>\n",
       "      <td>0.56</td>\n",
       "    </tr>\n",
       "    <tr>\n",
       "      <th>1</th>\n",
       "      <td>Ord_5406</td>\n",
       "      <td>Prod_13</td>\n",
       "      <td>SHP_7549</td>\n",
       "      <td>Cust_1818</td>\n",
       "      <td>42.2700</td>\n",
       "      <td>0.01</td>\n",
       "      <td>13</td>\n",
       "      <td>4.56</td>\n",
       "      <td>0.93</td>\n",
       "      <td>0.54</td>\n",
       "    </tr>\n",
       "    <tr>\n",
       "      <th>2</th>\n",
       "      <td>Ord_5446</td>\n",
       "      <td>Prod_4</td>\n",
       "      <td>SHP_7610</td>\n",
       "      <td>Cust_1818</td>\n",
       "      <td>4701.6900</td>\n",
       "      <td>0.00</td>\n",
       "      <td>26</td>\n",
       "      <td>1148.90</td>\n",
       "      <td>2.50</td>\n",
       "      <td>0.59</td>\n",
       "    </tr>\n",
       "    <tr>\n",
       "      <th>3</th>\n",
       "      <td>Ord_5456</td>\n",
       "      <td>Prod_6</td>\n",
       "      <td>SHP_7625</td>\n",
       "      <td>Cust_1818</td>\n",
       "      <td>2337.8900</td>\n",
       "      <td>0.09</td>\n",
       "      <td>43</td>\n",
       "      <td>729.34</td>\n",
       "      <td>14.30</td>\n",
       "      <td>0.37</td>\n",
       "    </tr>\n",
       "    <tr>\n",
       "      <th>4</th>\n",
       "      <td>Ord_5485</td>\n",
       "      <td>Prod_17</td>\n",
       "      <td>SHP_7664</td>\n",
       "      <td>Cust_1818</td>\n",
       "      <td>4233.1500</td>\n",
       "      <td>0.08</td>\n",
       "      <td>35</td>\n",
       "      <td>1219.87</td>\n",
       "      <td>26.30</td>\n",
       "      <td>0.38</td>\n",
       "    </tr>\n",
       "    <tr>\n",
       "      <th>...</th>\n",
       "      <td>...</td>\n",
       "      <td>...</td>\n",
       "      <td>...</td>\n",
       "      <td>...</td>\n",
       "      <td>...</td>\n",
       "      <td>...</td>\n",
       "      <td>...</td>\n",
       "      <td>...</td>\n",
       "      <td>...</td>\n",
       "      <td>...</td>\n",
       "    </tr>\n",
       "    <tr>\n",
       "      <th>95</th>\n",
       "      <td>Ord_5462</td>\n",
       "      <td>Prod_4</td>\n",
       "      <td>SHP_7632</td>\n",
       "      <td>Cust_1820</td>\n",
       "      <td>175.8565</td>\n",
       "      <td>0.03</td>\n",
       "      <td>10</td>\n",
       "      <td>-93.26</td>\n",
       "      <td>1.25</td>\n",
       "      <td>0.83</td>\n",
       "    </tr>\n",
       "    <tr>\n",
       "      <th>96</th>\n",
       "      <td>Ord_5489</td>\n",
       "      <td>Prod_17</td>\n",
       "      <td>SHP_7671</td>\n",
       "      <td>Cust_1820</td>\n",
       "      <td>754.9200</td>\n",
       "      <td>0.00</td>\n",
       "      <td>7</td>\n",
       "      <td>-129.57</td>\n",
       "      <td>19.99</td>\n",
       "      <td>0.52</td>\n",
       "    </tr>\n",
       "    <tr>\n",
       "      <th>97</th>\n",
       "      <td>Ord_5462</td>\n",
       "      <td>Prod_5</td>\n",
       "      <td>SHP_7631</td>\n",
       "      <td>Cust_1820</td>\n",
       "      <td>323.9600</td>\n",
       "      <td>0.07</td>\n",
       "      <td>40</td>\n",
       "      <td>-136.82</td>\n",
       "      <td>7.96</td>\n",
       "      <td>0.49</td>\n",
       "    </tr>\n",
       "    <tr>\n",
       "      <th>98</th>\n",
       "      <td>Ord_5481</td>\n",
       "      <td>Prod_15</td>\n",
       "      <td>SHP_7659</td>\n",
       "      <td>Cust_1820</td>\n",
       "      <td>2700.7800</td>\n",
       "      <td>0.06</td>\n",
       "      <td>29</td>\n",
       "      <td>-793.36</td>\n",
       "      <td>58.20</td>\n",
       "      <td>0.58</td>\n",
       "    </tr>\n",
       "    <tr>\n",
       "      <th>99</th>\n",
       "      <td>Ord_1638</td>\n",
       "      <td>Prod_5</td>\n",
       "      <td>SHP_5892</td>\n",
       "      <td>Cust_1433</td>\n",
       "      <td>755.1900</td>\n",
       "      <td>0.00</td>\n",
       "      <td>41</td>\n",
       "      <td>81.44</td>\n",
       "      <td>8.99</td>\n",
       "      <td>0.47</td>\n",
       "    </tr>\n",
       "  </tbody>\n",
       "</table>\n",
       "<p>100 rows × 10 columns</p>\n",
       "</div>"
      ],
      "text/plain": [
       "      Ord_id  Prod_id   Ship_id    Cust_id      Sales  Discount  \\\n",
       "0   Ord_5446  Prod_16  SHP_7609  Cust_1818   136.8100      0.01   \n",
       "1   Ord_5406  Prod_13  SHP_7549  Cust_1818    42.2700      0.01   \n",
       "2   Ord_5446   Prod_4  SHP_7610  Cust_1818  4701.6900      0.00   \n",
       "3   Ord_5456   Prod_6  SHP_7625  Cust_1818  2337.8900      0.09   \n",
       "4   Ord_5485  Prod_17  SHP_7664  Cust_1818  4233.1500      0.08   \n",
       "..       ...      ...       ...        ...        ...       ...   \n",
       "95  Ord_5462   Prod_4  SHP_7632  Cust_1820   175.8565      0.03   \n",
       "96  Ord_5489  Prod_17  SHP_7671  Cust_1820   754.9200      0.00   \n",
       "97  Ord_5462   Prod_5  SHP_7631  Cust_1820   323.9600      0.07   \n",
       "98  Ord_5481  Prod_15  SHP_7659  Cust_1820  2700.7800      0.06   \n",
       "99  Ord_1638   Prod_5  SHP_5892  Cust_1433   755.1900      0.00   \n",
       "\n",
       "    Order_Quantity   Profit  Shipping_Cost  Product_Base_Margin  \n",
       "0               23   -30.51           3.60                 0.56  \n",
       "1               13     4.56           0.93                 0.54  \n",
       "2               26  1148.90           2.50                 0.59  \n",
       "3               43   729.34          14.30                 0.37  \n",
       "4               35  1219.87          26.30                 0.38  \n",
       "..             ...      ...            ...                  ...  \n",
       "95              10   -93.26           1.25                 0.83  \n",
       "96               7  -129.57          19.99                 0.52  \n",
       "97              40  -136.82           7.96                 0.49  \n",
       "98              29  -793.36          58.20                 0.58  \n",
       "99              41    81.44           8.99                 0.47  \n",
       "\n",
       "[100 rows x 10 columns]"
      ]
     },
     "execution_count": 219,
     "metadata": {},
     "output_type": "execute_result"
    }
   ],
   "source": [
    "df[0:100]"
   ]
  },
  {
   "cell_type": "code",
   "execution_count": 220,
   "id": "55d0fc35",
   "metadata": {},
   "outputs": [
    {
     "ename": "KeyError",
     "evalue": "0",
     "output_type": "error",
     "traceback": [
      "\u001b[1;31m---------------------------------------------------------------------------\u001b[0m",
      "\u001b[1;31mKeyError\u001b[0m                                  Traceback (most recent call last)",
      "File \u001b[1;32m~\\anaconda3\\Lib\\site-packages\\pandas\\core\\indexes\\base.py:3653\u001b[0m, in \u001b[0;36mIndex.get_loc\u001b[1;34m(self, key)\u001b[0m\n\u001b[0;32m   3652\u001b[0m \u001b[38;5;28;01mtry\u001b[39;00m:\n\u001b[1;32m-> 3653\u001b[0m     \u001b[38;5;28;01mreturn\u001b[39;00m \u001b[38;5;28mself\u001b[39m\u001b[38;5;241m.\u001b[39m_engine\u001b[38;5;241m.\u001b[39mget_loc(casted_key)\n\u001b[0;32m   3654\u001b[0m \u001b[38;5;28;01mexcept\u001b[39;00m \u001b[38;5;167;01mKeyError\u001b[39;00m \u001b[38;5;28;01mas\u001b[39;00m err:\n",
      "File \u001b[1;32m~\\anaconda3\\Lib\\site-packages\\pandas\\_libs\\index.pyx:147\u001b[0m, in \u001b[0;36mpandas._libs.index.IndexEngine.get_loc\u001b[1;34m()\u001b[0m\n",
      "File \u001b[1;32m~\\anaconda3\\Lib\\site-packages\\pandas\\_libs\\index.pyx:176\u001b[0m, in \u001b[0;36mpandas._libs.index.IndexEngine.get_loc\u001b[1;34m()\u001b[0m\n",
      "File \u001b[1;32mpandas\\_libs\\hashtable_class_helper.pxi:7080\u001b[0m, in \u001b[0;36mpandas._libs.hashtable.PyObjectHashTable.get_item\u001b[1;34m()\u001b[0m\n",
      "File \u001b[1;32mpandas\\_libs\\hashtable_class_helper.pxi:7088\u001b[0m, in \u001b[0;36mpandas._libs.hashtable.PyObjectHashTable.get_item\u001b[1;34m()\u001b[0m\n",
      "\u001b[1;31mKeyError\u001b[0m: 0",
      "\nThe above exception was the direct cause of the following exception:\n",
      "\u001b[1;31mKeyError\u001b[0m                                  Traceback (most recent call last)",
      "Cell \u001b[1;32mIn[220], line 3\u001b[0m\n\u001b[0;32m      1\u001b[0m \u001b[38;5;66;03m#diadvantage of normal indexing\u001b[39;00m\n\u001b[1;32m----> 3\u001b[0m df[\u001b[38;5;241m0\u001b[39m]\n",
      "File \u001b[1;32m~\\anaconda3\\Lib\\site-packages\\pandas\\core\\frame.py:3761\u001b[0m, in \u001b[0;36mDataFrame.__getitem__\u001b[1;34m(self, key)\u001b[0m\n\u001b[0;32m   3759\u001b[0m \u001b[38;5;28;01mif\u001b[39;00m \u001b[38;5;28mself\u001b[39m\u001b[38;5;241m.\u001b[39mcolumns\u001b[38;5;241m.\u001b[39mnlevels \u001b[38;5;241m>\u001b[39m \u001b[38;5;241m1\u001b[39m:\n\u001b[0;32m   3760\u001b[0m     \u001b[38;5;28;01mreturn\u001b[39;00m \u001b[38;5;28mself\u001b[39m\u001b[38;5;241m.\u001b[39m_getitem_multilevel(key)\n\u001b[1;32m-> 3761\u001b[0m indexer \u001b[38;5;241m=\u001b[39m \u001b[38;5;28mself\u001b[39m\u001b[38;5;241m.\u001b[39mcolumns\u001b[38;5;241m.\u001b[39mget_loc(key)\n\u001b[0;32m   3762\u001b[0m \u001b[38;5;28;01mif\u001b[39;00m is_integer(indexer):\n\u001b[0;32m   3763\u001b[0m     indexer \u001b[38;5;241m=\u001b[39m [indexer]\n",
      "File \u001b[1;32m~\\anaconda3\\Lib\\site-packages\\pandas\\core\\indexes\\base.py:3655\u001b[0m, in \u001b[0;36mIndex.get_loc\u001b[1;34m(self, key)\u001b[0m\n\u001b[0;32m   3653\u001b[0m     \u001b[38;5;28;01mreturn\u001b[39;00m \u001b[38;5;28mself\u001b[39m\u001b[38;5;241m.\u001b[39m_engine\u001b[38;5;241m.\u001b[39mget_loc(casted_key)\n\u001b[0;32m   3654\u001b[0m \u001b[38;5;28;01mexcept\u001b[39;00m \u001b[38;5;167;01mKeyError\u001b[39;00m \u001b[38;5;28;01mas\u001b[39;00m err:\n\u001b[1;32m-> 3655\u001b[0m     \u001b[38;5;28;01mraise\u001b[39;00m \u001b[38;5;167;01mKeyError\u001b[39;00m(key) \u001b[38;5;28;01mfrom\u001b[39;00m \u001b[38;5;21;01merr\u001b[39;00m\n\u001b[0;32m   3656\u001b[0m \u001b[38;5;28;01mexcept\u001b[39;00m \u001b[38;5;167;01mTypeError\u001b[39;00m:\n\u001b[0;32m   3657\u001b[0m     \u001b[38;5;66;03m# If we have a listlike key, _check_indexing_error will raise\u001b[39;00m\n\u001b[0;32m   3658\u001b[0m     \u001b[38;5;66;03m#  InvalidIndexError. Otherwise we fall through and re-raise\u001b[39;00m\n\u001b[0;32m   3659\u001b[0m     \u001b[38;5;66;03m#  the TypeError.\u001b[39;00m\n\u001b[0;32m   3660\u001b[0m     \u001b[38;5;28mself\u001b[39m\u001b[38;5;241m.\u001b[39m_check_indexing_error(key)\n",
      "\u001b[1;31mKeyError\u001b[0m: 0"
     ]
    }
   ],
   "source": [
    "#diadvantage of normal indexing\n",
    "\n",
    "# 1) cannot select single row\n",
    "df[0]"
   ]
  },
  {
   "cell_type": "code",
   "execution_count": 221,
   "id": "89ea35d4",
   "metadata": {},
   "outputs": [
    {
     "ename": "KeyError",
     "evalue": "\"None of [Index([0, 4], dtype='int32')] are in the [columns]\"",
     "output_type": "error",
     "traceback": [
      "\u001b[1;31m---------------------------------------------------------------------------\u001b[0m",
      "\u001b[1;31mKeyError\u001b[0m                                  Traceback (most recent call last)",
      "Cell \u001b[1;32mIn[221], line 2\u001b[0m\n\u001b[0;32m      1\u001b[0m \u001b[38;5;66;03m# 2)cannot select cutom rows and cols\u001b[39;00m\n\u001b[1;32m----> 2\u001b[0m df[[\u001b[38;5;241m0\u001b[39m,\u001b[38;5;241m4\u001b[39m]]\n",
      "File \u001b[1;32m~\\anaconda3\\Lib\\site-packages\\pandas\\core\\frame.py:3767\u001b[0m, in \u001b[0;36mDataFrame.__getitem__\u001b[1;34m(self, key)\u001b[0m\n\u001b[0;32m   3765\u001b[0m     \u001b[38;5;28;01mif\u001b[39;00m is_iterator(key):\n\u001b[0;32m   3766\u001b[0m         key \u001b[38;5;241m=\u001b[39m \u001b[38;5;28mlist\u001b[39m(key)\n\u001b[1;32m-> 3767\u001b[0m     indexer \u001b[38;5;241m=\u001b[39m \u001b[38;5;28mself\u001b[39m\u001b[38;5;241m.\u001b[39mcolumns\u001b[38;5;241m.\u001b[39m_get_indexer_strict(key, \u001b[38;5;124m\"\u001b[39m\u001b[38;5;124mcolumns\u001b[39m\u001b[38;5;124m\"\u001b[39m)[\u001b[38;5;241m1\u001b[39m]\n\u001b[0;32m   3769\u001b[0m \u001b[38;5;66;03m# take() does not accept boolean indexers\u001b[39;00m\n\u001b[0;32m   3770\u001b[0m \u001b[38;5;28;01mif\u001b[39;00m \u001b[38;5;28mgetattr\u001b[39m(indexer, \u001b[38;5;124m\"\u001b[39m\u001b[38;5;124mdtype\u001b[39m\u001b[38;5;124m\"\u001b[39m, \u001b[38;5;28;01mNone\u001b[39;00m) \u001b[38;5;241m==\u001b[39m \u001b[38;5;28mbool\u001b[39m:\n",
      "File \u001b[1;32m~\\anaconda3\\Lib\\site-packages\\pandas\\core\\indexes\\base.py:5877\u001b[0m, in \u001b[0;36mIndex._get_indexer_strict\u001b[1;34m(self, key, axis_name)\u001b[0m\n\u001b[0;32m   5874\u001b[0m \u001b[38;5;28;01melse\u001b[39;00m:\n\u001b[0;32m   5875\u001b[0m     keyarr, indexer, new_indexer \u001b[38;5;241m=\u001b[39m \u001b[38;5;28mself\u001b[39m\u001b[38;5;241m.\u001b[39m_reindex_non_unique(keyarr)\n\u001b[1;32m-> 5877\u001b[0m \u001b[38;5;28mself\u001b[39m\u001b[38;5;241m.\u001b[39m_raise_if_missing(keyarr, indexer, axis_name)\n\u001b[0;32m   5879\u001b[0m keyarr \u001b[38;5;241m=\u001b[39m \u001b[38;5;28mself\u001b[39m\u001b[38;5;241m.\u001b[39mtake(indexer)\n\u001b[0;32m   5880\u001b[0m \u001b[38;5;28;01mif\u001b[39;00m \u001b[38;5;28misinstance\u001b[39m(key, Index):\n\u001b[0;32m   5881\u001b[0m     \u001b[38;5;66;03m# GH 42790 - Preserve name from an Index\u001b[39;00m\n",
      "File \u001b[1;32m~\\anaconda3\\Lib\\site-packages\\pandas\\core\\indexes\\base.py:5938\u001b[0m, in \u001b[0;36mIndex._raise_if_missing\u001b[1;34m(self, key, indexer, axis_name)\u001b[0m\n\u001b[0;32m   5936\u001b[0m     \u001b[38;5;28;01mif\u001b[39;00m use_interval_msg:\n\u001b[0;32m   5937\u001b[0m         key \u001b[38;5;241m=\u001b[39m \u001b[38;5;28mlist\u001b[39m(key)\n\u001b[1;32m-> 5938\u001b[0m     \u001b[38;5;28;01mraise\u001b[39;00m \u001b[38;5;167;01mKeyError\u001b[39;00m(\u001b[38;5;124mf\u001b[39m\u001b[38;5;124m\"\u001b[39m\u001b[38;5;124mNone of [\u001b[39m\u001b[38;5;132;01m{\u001b[39;00mkey\u001b[38;5;132;01m}\u001b[39;00m\u001b[38;5;124m] are in the [\u001b[39m\u001b[38;5;132;01m{\u001b[39;00maxis_name\u001b[38;5;132;01m}\u001b[39;00m\u001b[38;5;124m]\u001b[39m\u001b[38;5;124m\"\u001b[39m)\n\u001b[0;32m   5940\u001b[0m not_found \u001b[38;5;241m=\u001b[39m \u001b[38;5;28mlist\u001b[39m(ensure_index(key)[missing_mask\u001b[38;5;241m.\u001b[39mnonzero()[\u001b[38;5;241m0\u001b[39m]]\u001b[38;5;241m.\u001b[39munique())\n\u001b[0;32m   5941\u001b[0m \u001b[38;5;28;01mraise\u001b[39;00m \u001b[38;5;167;01mKeyError\u001b[39;00m(\u001b[38;5;124mf\u001b[39m\u001b[38;5;124m\"\u001b[39m\u001b[38;5;132;01m{\u001b[39;00mnot_found\u001b[38;5;132;01m}\u001b[39;00m\u001b[38;5;124m not in index\u001b[39m\u001b[38;5;124m\"\u001b[39m)\n",
      "\u001b[1;31mKeyError\u001b[0m: \"None of [Index([0, 4], dtype='int32')] are in the [columns]\""
     ]
    }
   ],
   "source": [
    "# 2)cannot select cutom rows and cols\n",
    "df[[0,4]]"
   ]
  },
  {
   "cell_type": "code",
   "execution_count": 222,
   "id": "418f3d5c",
   "metadata": {},
   "outputs": [
    {
     "ename": "InvalidIndexError",
     "evalue": "(slice(100, 400, None), 10)",
     "output_type": "error",
     "traceback": [
      "\u001b[1;31m---------------------------------------------------------------------------\u001b[0m",
      "\u001b[1;31mTypeError\u001b[0m                                 Traceback (most recent call last)",
      "File \u001b[1;32m~\\anaconda3\\Lib\\site-packages\\pandas\\core\\indexes\\base.py:3653\u001b[0m, in \u001b[0;36mIndex.get_loc\u001b[1;34m(self, key)\u001b[0m\n\u001b[0;32m   3652\u001b[0m \u001b[38;5;28;01mtry\u001b[39;00m:\n\u001b[1;32m-> 3653\u001b[0m     \u001b[38;5;28;01mreturn\u001b[39;00m \u001b[38;5;28mself\u001b[39m\u001b[38;5;241m.\u001b[39m_engine\u001b[38;5;241m.\u001b[39mget_loc(casted_key)\n\u001b[0;32m   3654\u001b[0m \u001b[38;5;28;01mexcept\u001b[39;00m \u001b[38;5;167;01mKeyError\u001b[39;00m \u001b[38;5;28;01mas\u001b[39;00m err:\n",
      "File \u001b[1;32m~\\anaconda3\\Lib\\site-packages\\pandas\\_libs\\index.pyx:147\u001b[0m, in \u001b[0;36mpandas._libs.index.IndexEngine.get_loc\u001b[1;34m()\u001b[0m\n",
      "File \u001b[1;32m~\\anaconda3\\Lib\\site-packages\\pandas\\_libs\\index.pyx:153\u001b[0m, in \u001b[0;36mpandas._libs.index.IndexEngine.get_loc\u001b[1;34m()\u001b[0m\n",
      "\u001b[1;31mTypeError\u001b[0m: '(slice(100, 400, None), 10)' is an invalid key",
      "\nDuring handling of the above exception, another exception occurred:\n",
      "\u001b[1;31mInvalidIndexError\u001b[0m                         Traceback (most recent call last)",
      "Cell \u001b[1;32mIn[222], line 3\u001b[0m\n\u001b[0;32m      1\u001b[0m \u001b[38;5;66;03m#cannot select row and col simentenously\u001b[39;00m\n\u001b[1;32m----> 3\u001b[0m df[\u001b[38;5;241m100\u001b[39m:\u001b[38;5;241m400\u001b[39m,\u001b[38;5;241m10\u001b[39m]\n",
      "File \u001b[1;32m~\\anaconda3\\Lib\\site-packages\\pandas\\core\\frame.py:3761\u001b[0m, in \u001b[0;36mDataFrame.__getitem__\u001b[1;34m(self, key)\u001b[0m\n\u001b[0;32m   3759\u001b[0m \u001b[38;5;28;01mif\u001b[39;00m \u001b[38;5;28mself\u001b[39m\u001b[38;5;241m.\u001b[39mcolumns\u001b[38;5;241m.\u001b[39mnlevels \u001b[38;5;241m>\u001b[39m \u001b[38;5;241m1\u001b[39m:\n\u001b[0;32m   3760\u001b[0m     \u001b[38;5;28;01mreturn\u001b[39;00m \u001b[38;5;28mself\u001b[39m\u001b[38;5;241m.\u001b[39m_getitem_multilevel(key)\n\u001b[1;32m-> 3761\u001b[0m indexer \u001b[38;5;241m=\u001b[39m \u001b[38;5;28mself\u001b[39m\u001b[38;5;241m.\u001b[39mcolumns\u001b[38;5;241m.\u001b[39mget_loc(key)\n\u001b[0;32m   3762\u001b[0m \u001b[38;5;28;01mif\u001b[39;00m is_integer(indexer):\n\u001b[0;32m   3763\u001b[0m     indexer \u001b[38;5;241m=\u001b[39m [indexer]\n",
      "File \u001b[1;32m~\\anaconda3\\Lib\\site-packages\\pandas\\core\\indexes\\base.py:3660\u001b[0m, in \u001b[0;36mIndex.get_loc\u001b[1;34m(self, key)\u001b[0m\n\u001b[0;32m   3655\u001b[0m     \u001b[38;5;28;01mraise\u001b[39;00m \u001b[38;5;167;01mKeyError\u001b[39;00m(key) \u001b[38;5;28;01mfrom\u001b[39;00m \u001b[38;5;21;01merr\u001b[39;00m\n\u001b[0;32m   3656\u001b[0m \u001b[38;5;28;01mexcept\u001b[39;00m \u001b[38;5;167;01mTypeError\u001b[39;00m:\n\u001b[0;32m   3657\u001b[0m     \u001b[38;5;66;03m# If we have a listlike key, _check_indexing_error will raise\u001b[39;00m\n\u001b[0;32m   3658\u001b[0m     \u001b[38;5;66;03m#  InvalidIndexError. Otherwise we fall through and re-raise\u001b[39;00m\n\u001b[0;32m   3659\u001b[0m     \u001b[38;5;66;03m#  the TypeError.\u001b[39;00m\n\u001b[1;32m-> 3660\u001b[0m     \u001b[38;5;28mself\u001b[39m\u001b[38;5;241m.\u001b[39m_check_indexing_error(key)\n\u001b[0;32m   3661\u001b[0m     \u001b[38;5;28;01mraise\u001b[39;00m\n",
      "File \u001b[1;32m~\\anaconda3\\Lib\\site-packages\\pandas\\core\\indexes\\base.py:5737\u001b[0m, in \u001b[0;36mIndex._check_indexing_error\u001b[1;34m(self, key)\u001b[0m\n\u001b[0;32m   5733\u001b[0m \u001b[38;5;28;01mdef\u001b[39;00m \u001b[38;5;21m_check_indexing_error\u001b[39m(\u001b[38;5;28mself\u001b[39m, key):\n\u001b[0;32m   5734\u001b[0m     \u001b[38;5;28;01mif\u001b[39;00m \u001b[38;5;129;01mnot\u001b[39;00m is_scalar(key):\n\u001b[0;32m   5735\u001b[0m         \u001b[38;5;66;03m# if key is not a scalar, directly raise an error (the code below\u001b[39;00m\n\u001b[0;32m   5736\u001b[0m         \u001b[38;5;66;03m# would convert to numpy arrays and raise later any way) - GH29926\u001b[39;00m\n\u001b[1;32m-> 5737\u001b[0m         \u001b[38;5;28;01mraise\u001b[39;00m InvalidIndexError(key)\n",
      "\u001b[1;31mInvalidIndexError\u001b[0m: (slice(100, 400, None), 10)"
     ]
    }
   ],
   "source": [
    "#cannot select row and col simentenously\n",
    "\n",
    "df[100:400,10]"
   ]
  },
  {
   "cell_type": "code",
   "execution_count": 223,
   "id": "2da92883",
   "metadata": {},
   "outputs": [
    {
     "data": {
      "text/plain": [
       "100     Prod_8\n",
       "101     Prod_7\n",
       "102     Prod_2\n",
       "103    Prod_13\n",
       "104     Prod_8\n",
       "        ...   \n",
       "395     Prod_2\n",
       "396     Prod_1\n",
       "397    Prod_11\n",
       "398     Prod_6\n",
       "399     Prod_9\n",
       "Name: Prod_id, Length: 300, dtype: object"
      ]
     },
     "execution_count": 223,
     "metadata": {},
     "output_type": "execute_result"
    }
   ],
   "source": [
    "df.iloc[100:400,1]"
   ]
  },
  {
   "cell_type": "code",
   "execution_count": 224,
   "id": "a4dc4e17",
   "metadata": {},
   "outputs": [
    {
     "data": {
      "text/html": [
       "<div>\n",
       "<style scoped>\n",
       "    .dataframe tbody tr th:only-of-type {\n",
       "        vertical-align: middle;\n",
       "    }\n",
       "\n",
       "    .dataframe tbody tr th {\n",
       "        vertical-align: top;\n",
       "    }\n",
       "\n",
       "    .dataframe thead th {\n",
       "        text-align: right;\n",
       "    }\n",
       "</style>\n",
       "<table border=\"1\" class=\"dataframe\">\n",
       "  <thead>\n",
       "    <tr style=\"text-align: right;\">\n",
       "      <th></th>\n",
       "      <th>Ord_id</th>\n",
       "    </tr>\n",
       "  </thead>\n",
       "  <tbody>\n",
       "    <tr>\n",
       "      <th>0</th>\n",
       "      <td>Ord_5446</td>\n",
       "    </tr>\n",
       "    <tr>\n",
       "      <th>1</th>\n",
       "      <td>Ord_5406</td>\n",
       "    </tr>\n",
       "    <tr>\n",
       "      <th>2</th>\n",
       "      <td>Ord_5446</td>\n",
       "    </tr>\n",
       "    <tr>\n",
       "      <th>3</th>\n",
       "      <td>Ord_5456</td>\n",
       "    </tr>\n",
       "    <tr>\n",
       "      <th>4</th>\n",
       "      <td>Ord_5485</td>\n",
       "    </tr>\n",
       "    <tr>\n",
       "      <th>...</th>\n",
       "      <td>...</td>\n",
       "    </tr>\n",
       "    <tr>\n",
       "      <th>496</th>\n",
       "      <td>Ord_5310</td>\n",
       "    </tr>\n",
       "    <tr>\n",
       "      <th>497</th>\n",
       "      <td>Ord_5272</td>\n",
       "    </tr>\n",
       "    <tr>\n",
       "      <th>498</th>\n",
       "      <td>Ord_5257</td>\n",
       "    </tr>\n",
       "    <tr>\n",
       "      <th>499</th>\n",
       "      <td>Ord_5309</td>\n",
       "    </tr>\n",
       "    <tr>\n",
       "      <th>500</th>\n",
       "      <td>Ord_1127</td>\n",
       "    </tr>\n",
       "  </tbody>\n",
       "</table>\n",
       "<p>501 rows × 1 columns</p>\n",
       "</div>"
      ],
      "text/plain": [
       "       Ord_id\n",
       "0    Ord_5446\n",
       "1    Ord_5406\n",
       "2    Ord_5446\n",
       "3    Ord_5456\n",
       "4    Ord_5485\n",
       "..        ...\n",
       "496  Ord_5310\n",
       "497  Ord_5272\n",
       "498  Ord_5257\n",
       "499  Ord_5309\n",
       "500  Ord_1127\n",
       "\n",
       "[501 rows x 1 columns]"
      ]
     },
     "execution_count": 224,
     "metadata": {},
     "output_type": "execute_result"
    }
   ],
   "source": [
    "df.loc[0:500,['Ord_id']]"
   ]
  },
  {
   "cell_type": "code",
   "execution_count": 225,
   "id": "28e22b17",
   "metadata": {},
   "outputs": [
    {
     "data": {
      "text/plain": [
       "0       False\n",
       "1       False\n",
       "2       False\n",
       "3       False\n",
       "4       False\n",
       "        ...  \n",
       "8394    False\n",
       "8395    False\n",
       "8396    False\n",
       "8397    False\n",
       "8398    False\n",
       "Name: Discount, Length: 8399, dtype: bool"
      ]
     },
     "execution_count": 225,
     "metadata": {},
     "output_type": "execute_result"
    }
   ],
   "source": [
    "df['Discount']>0.2"
   ]
  },
  {
   "cell_type": "code",
   "execution_count": 226,
   "id": "e77d6ba7",
   "metadata": {},
   "outputs": [
    {
     "data": {
      "text/html": [
       "<div>\n",
       "<style scoped>\n",
       "    .dataframe tbody tr th:only-of-type {\n",
       "        vertical-align: middle;\n",
       "    }\n",
       "\n",
       "    .dataframe tbody tr th {\n",
       "        vertical-align: top;\n",
       "    }\n",
       "\n",
       "    .dataframe thead th {\n",
       "        text-align: right;\n",
       "    }\n",
       "</style>\n",
       "<table border=\"1\" class=\"dataframe\">\n",
       "  <thead>\n",
       "    <tr style=\"text-align: right;\">\n",
       "      <th></th>\n",
       "      <th>Ord_id</th>\n",
       "      <th>Prod_id</th>\n",
       "      <th>Ship_id</th>\n",
       "      <th>Cust_id</th>\n",
       "      <th>Sales</th>\n",
       "      <th>Discount</th>\n",
       "      <th>Order_Quantity</th>\n",
       "      <th>Profit</th>\n",
       "      <th>Shipping_Cost</th>\n",
       "      <th>Product_Base_Margin</th>\n",
       "    </tr>\n",
       "  </thead>\n",
       "  <tbody>\n",
       "    <tr>\n",
       "      <th>7705</th>\n",
       "      <td>Ord_162</td>\n",
       "      <td>Prod_5</td>\n",
       "      <td>SHP_219</td>\n",
       "      <td>Cust_42</td>\n",
       "      <td>338.520</td>\n",
       "      <td>0.21</td>\n",
       "      <td>22</td>\n",
       "      <td>-17.75</td>\n",
       "      <td>8.99</td>\n",
       "      <td>0.39</td>\n",
       "    </tr>\n",
       "    <tr>\n",
       "      <th>7713</th>\n",
       "      <td>Ord_13</td>\n",
       "      <td>Prod_11</td>\n",
       "      <td>SHP_17</td>\n",
       "      <td>Cust_12</td>\n",
       "      <td>663.784</td>\n",
       "      <td>0.25</td>\n",
       "      <td>11</td>\n",
       "      <td>-481.04</td>\n",
       "      <td>69.00</td>\n",
       "      <td>0.68</td>\n",
       "    </tr>\n",
       "  </tbody>\n",
       "</table>\n",
       "</div>"
      ],
      "text/plain": [
       "       Ord_id  Prod_id  Ship_id  Cust_id    Sales  Discount  Order_Quantity  \\\n",
       "7705  Ord_162   Prod_5  SHP_219  Cust_42  338.520      0.21              22   \n",
       "7713   Ord_13  Prod_11   SHP_17  Cust_12  663.784      0.25              11   \n",
       "\n",
       "      Profit  Shipping_Cost  Product_Base_Margin  \n",
       "7705  -17.75           8.99                 0.39  \n",
       "7713 -481.04          69.00                 0.68  "
      ]
     },
     "execution_count": 226,
     "metadata": {},
     "output_type": "execute_result"
    }
   ],
   "source": [
    "df[df['Discount']>0.2]"
   ]
  },
  {
   "cell_type": "code",
   "execution_count": 228,
   "id": "b37714f9",
   "metadata": {},
   "outputs": [
    {
     "data": {
      "text/html": [
       "<div>\n",
       "<style scoped>\n",
       "    .dataframe tbody tr th:only-of-type {\n",
       "        vertical-align: middle;\n",
       "    }\n",
       "\n",
       "    .dataframe tbody tr th {\n",
       "        vertical-align: top;\n",
       "    }\n",
       "\n",
       "    .dataframe thead th {\n",
       "        text-align: right;\n",
       "    }\n",
       "</style>\n",
       "<table border=\"1\" class=\"dataframe\">\n",
       "  <thead>\n",
       "    <tr style=\"text-align: right;\">\n",
       "      <th></th>\n",
       "      <th>Sales</th>\n",
       "    </tr>\n",
       "  </thead>\n",
       "  <tbody>\n",
       "    <tr>\n",
       "      <th>7705</th>\n",
       "      <td>338.520</td>\n",
       "    </tr>\n",
       "    <tr>\n",
       "      <th>7713</th>\n",
       "      <td>663.784</td>\n",
       "    </tr>\n",
       "  </tbody>\n",
       "</table>\n",
       "</div>"
      ],
      "text/plain": [
       "        Sales\n",
       "7705  338.520\n",
       "7713  663.784"
      ]
     },
     "execution_count": 228,
     "metadata": {},
     "output_type": "execute_result"
    }
   ],
   "source": [
    "#condition with rwo and col selection\n",
    "df.loc[df['Discount']>0.2,['Sales']]"
   ]
  },
  {
   "cell_type": "code",
   "execution_count": 229,
   "id": "1fadc2d3",
   "metadata": {},
   "outputs": [
    {
     "data": {
      "text/plain": [
       "417.19"
      ]
     },
     "execution_count": 229,
     "metadata": {},
     "output_type": "execute_result"
    }
   ],
   "source": [
    "df['Discount'].sum()"
   ]
  },
  {
   "cell_type": "code",
   "execution_count": 230,
   "id": "14cc7df9",
   "metadata": {},
   "outputs": [
    {
     "data": {
      "text/plain": [
       "0.25"
      ]
     },
     "execution_count": 230,
     "metadata": {},
     "output_type": "execute_result"
    }
   ],
   "source": [
    "df['Discount'].max()"
   ]
  },
  {
   "cell_type": "code",
   "execution_count": 232,
   "id": "83492d58",
   "metadata": {},
   "outputs": [
    {
     "data": {
      "text/html": [
       "<div>\n",
       "<style scoped>\n",
       "    .dataframe tbody tr th:only-of-type {\n",
       "        vertical-align: middle;\n",
       "    }\n",
       "\n",
       "    .dataframe tbody tr th {\n",
       "        vertical-align: top;\n",
       "    }\n",
       "\n",
       "    .dataframe thead th {\n",
       "        text-align: right;\n",
       "    }\n",
       "</style>\n",
       "<table border=\"1\" class=\"dataframe\">\n",
       "  <thead>\n",
       "    <tr style=\"text-align: right;\">\n",
       "      <th></th>\n",
       "      <th>Ord_id</th>\n",
       "      <th>Prod_id</th>\n",
       "      <th>Ship_id</th>\n",
       "      <th>Cust_id</th>\n",
       "      <th>Sales</th>\n",
       "      <th>Discount</th>\n",
       "      <th>Order_Quantity</th>\n",
       "      <th>Profit</th>\n",
       "      <th>Shipping_Cost</th>\n",
       "      <th>Product_Base_Margin</th>\n",
       "    </tr>\n",
       "  </thead>\n",
       "  <tbody>\n",
       "    <tr>\n",
       "      <th>7713</th>\n",
       "      <td>Ord_13</td>\n",
       "      <td>Prod_11</td>\n",
       "      <td>SHP_17</td>\n",
       "      <td>Cust_12</td>\n",
       "      <td>663.784</td>\n",
       "      <td>0.25</td>\n",
       "      <td>11</td>\n",
       "      <td>-481.04</td>\n",
       "      <td>69.00</td>\n",
       "      <td>0.68</td>\n",
       "    </tr>\n",
       "    <tr>\n",
       "      <th>7705</th>\n",
       "      <td>Ord_162</td>\n",
       "      <td>Prod_5</td>\n",
       "      <td>SHP_219</td>\n",
       "      <td>Cust_42</td>\n",
       "      <td>338.520</td>\n",
       "      <td>0.21</td>\n",
       "      <td>22</td>\n",
       "      <td>-17.75</td>\n",
       "      <td>8.99</td>\n",
       "      <td>0.39</td>\n",
       "    </tr>\n",
       "    <tr>\n",
       "      <th>5334</th>\n",
       "      <td>Ord_916</td>\n",
       "      <td>Prod_5</td>\n",
       "      <td>SHP_1262</td>\n",
       "      <td>Cust_328</td>\n",
       "      <td>27.960</td>\n",
       "      <td>0.17</td>\n",
       "      <td>1</td>\n",
       "      <td>-9.13</td>\n",
       "      <td>13.56</td>\n",
       "      <td>0.58</td>\n",
       "    </tr>\n",
       "    <tr>\n",
       "      <th>5326</th>\n",
       "      <td>Ord_960</td>\n",
       "      <td>Prod_5</td>\n",
       "      <td>SHP_1329</td>\n",
       "      <td>Cust_349</td>\n",
       "      <td>651.900</td>\n",
       "      <td>0.16</td>\n",
       "      <td>49</td>\n",
       "      <td>-74.51</td>\n",
       "      <td>6.85</td>\n",
       "      <td>0.54</td>\n",
       "    </tr>\n",
       "    <tr>\n",
       "      <th>5329</th>\n",
       "      <td>Ord_876</td>\n",
       "      <td>Prod_5</td>\n",
       "      <td>SHP_1204</td>\n",
       "      <td>Cust_299</td>\n",
       "      <td>586.110</td>\n",
       "      <td>0.11</td>\n",
       "      <td>43</td>\n",
       "      <td>98.44</td>\n",
       "      <td>4.98</td>\n",
       "      <td>0.48</td>\n",
       "    </tr>\n",
       "    <tr>\n",
       "      <th>...</th>\n",
       "      <td>...</td>\n",
       "      <td>...</td>\n",
       "      <td>...</td>\n",
       "      <td>...</td>\n",
       "      <td>...</td>\n",
       "      <td>...</td>\n",
       "      <td>...</td>\n",
       "      <td>...</td>\n",
       "      <td>...</td>\n",
       "      <td>...</td>\n",
       "    </tr>\n",
       "    <tr>\n",
       "      <th>3904</th>\n",
       "      <td>Ord_2920</td>\n",
       "      <td>Prod_15</td>\n",
       "      <td>SHP_4032</td>\n",
       "      <td>Cust_1055</td>\n",
       "      <td>1004.890</td>\n",
       "      <td>0.00</td>\n",
       "      <td>10</td>\n",
       "      <td>-189.02</td>\n",
       "      <td>42.00</td>\n",
       "      <td>0.66</td>\n",
       "    </tr>\n",
       "    <tr>\n",
       "      <th>3899</th>\n",
       "      <td>Ord_4575</td>\n",
       "      <td>Prod_6</td>\n",
       "      <td>SHP_6366</td>\n",
       "      <td>Cust_1514</td>\n",
       "      <td>231.650</td>\n",
       "      <td>0.00</td>\n",
       "      <td>37</td>\n",
       "      <td>-241.28</td>\n",
       "      <td>10.39</td>\n",
       "      <td>0.40</td>\n",
       "    </tr>\n",
       "    <tr>\n",
       "      <th>3897</th>\n",
       "      <td>Ord_4411</td>\n",
       "      <td>Prod_1</td>\n",
       "      <td>SHP_6147</td>\n",
       "      <td>Cust_1514</td>\n",
       "      <td>3644.240</td>\n",
       "      <td>0.00</td>\n",
       "      <td>33</td>\n",
       "      <td>-457.73</td>\n",
       "      <td>35.00</td>\n",
       "      <td>0.82</td>\n",
       "    </tr>\n",
       "    <tr>\n",
       "      <th>3879</th>\n",
       "      <td>Ord_236</td>\n",
       "      <td>Prod_7</td>\n",
       "      <td>SHP_329</td>\n",
       "      <td>Cust_104</td>\n",
       "      <td>68.140</td>\n",
       "      <td>0.00</td>\n",
       "      <td>30</td>\n",
       "      <td>6.37</td>\n",
       "      <td>0.78</td>\n",
       "      <td>0.52</td>\n",
       "    </tr>\n",
       "    <tr>\n",
       "      <th>8398</th>\n",
       "      <td>Ord_5459</td>\n",
       "      <td>Prod_6</td>\n",
       "      <td>SHP_7628</td>\n",
       "      <td>Cust_1798</td>\n",
       "      <td>603.690</td>\n",
       "      <td>0.00</td>\n",
       "      <td>47</td>\n",
       "      <td>131.39</td>\n",
       "      <td>4.86</td>\n",
       "      <td>0.38</td>\n",
       "    </tr>\n",
       "  </tbody>\n",
       "</table>\n",
       "<p>8399 rows × 10 columns</p>\n",
       "</div>"
      ],
      "text/plain": [
       "        Ord_id  Prod_id   Ship_id    Cust_id     Sales  Discount  \\\n",
       "7713    Ord_13  Prod_11    SHP_17    Cust_12   663.784      0.25   \n",
       "7705   Ord_162   Prod_5   SHP_219    Cust_42   338.520      0.21   \n",
       "5334   Ord_916   Prod_5  SHP_1262   Cust_328    27.960      0.17   \n",
       "5326   Ord_960   Prod_5  SHP_1329   Cust_349   651.900      0.16   \n",
       "5329   Ord_876   Prod_5  SHP_1204   Cust_299   586.110      0.11   \n",
       "...        ...      ...       ...        ...       ...       ...   \n",
       "3904  Ord_2920  Prod_15  SHP_4032  Cust_1055  1004.890      0.00   \n",
       "3899  Ord_4575   Prod_6  SHP_6366  Cust_1514   231.650      0.00   \n",
       "3897  Ord_4411   Prod_1  SHP_6147  Cust_1514  3644.240      0.00   \n",
       "3879   Ord_236   Prod_7   SHP_329   Cust_104    68.140      0.00   \n",
       "8398  Ord_5459   Prod_6  SHP_7628  Cust_1798   603.690      0.00   \n",
       "\n",
       "      Order_Quantity  Profit  Shipping_Cost  Product_Base_Margin  \n",
       "7713              11 -481.04          69.00                 0.68  \n",
       "7705              22  -17.75           8.99                 0.39  \n",
       "5334               1   -9.13          13.56                 0.58  \n",
       "5326              49  -74.51           6.85                 0.54  \n",
       "5329              43   98.44           4.98                 0.48  \n",
       "...              ...     ...            ...                  ...  \n",
       "3904              10 -189.02          42.00                 0.66  \n",
       "3899              37 -241.28          10.39                 0.40  \n",
       "3897              33 -457.73          35.00                 0.82  \n",
       "3879              30    6.37           0.78                 0.52  \n",
       "8398              47  131.39           4.86                 0.38  \n",
       "\n",
       "[8399 rows x 10 columns]"
      ]
     },
     "execution_count": 232,
     "metadata": {},
     "output_type": "execute_result"
    }
   ],
   "source": [
    "df.sort_values('Discount',ascending=False)"
   ]
  },
  {
   "cell_type": "markdown",
   "id": "b0432675",
   "metadata": {},
   "source": [
    "df['Prod_id'].unique()"
   ]
  },
  {
   "cell_type": "code",
   "execution_count": 233,
   "id": "52f031c6",
   "metadata": {},
   "outputs": [
    {
     "data": {
      "text/plain": [
       "array(['Prod_16', 'Prod_13', 'Prod_4', 'Prod_6', 'Prod_17', 'Prod_12',\n",
       "       'Prod_2', 'Prod_11', 'Prod_10', 'Prod_5', 'Prod_9', 'Prod_15',\n",
       "       'Prod_7', 'Prod_3', 'Prod_1', 'Prod_8', 'Prod_14'], dtype=object)"
      ]
     },
     "execution_count": 233,
     "metadata": {},
     "output_type": "execute_result"
    }
   ],
   "source": [
    "df['Prod_id'].unique()"
   ]
  },
  {
   "cell_type": "code",
   "execution_count": 234,
   "id": "678a6fe6",
   "metadata": {},
   "outputs": [
    {
     "data": {
      "text/plain": [
       "Prod_id\n",
       "Prod_6     1225\n",
       "Prod_3      915\n",
       "Prod_4      883\n",
       "Prod_5      788\n",
       "Prod_8      758\n",
       "Prod_13     633\n",
       "Prod_1      546\n",
       "Prod_2      434\n",
       "Prod_15     386\n",
       "Prod_11     361\n",
       "Prod_17     337\n",
       "Prod_12     288\n",
       "Prod_9      246\n",
       "Prod_10     189\n",
       "Prod_7      179\n",
       "Prod_16     144\n",
       "Prod_14      87\n",
       "Name: count, dtype: int64"
      ]
     },
     "execution_count": 234,
     "metadata": {},
     "output_type": "execute_result"
    }
   ],
   "source": [
    "df['Prod_id'].value_counts()"
   ]
  },
  {
   "cell_type": "code",
   "execution_count": 236,
   "id": "f4483923",
   "metadata": {},
   "outputs": [],
   "source": [
    "g1=df.groupby('Prod_id')"
   ]
  },
  {
   "cell_type": "code",
   "execution_count": 238,
   "id": "e08cdc1a",
   "metadata": {},
   "outputs": [
    {
     "data": {
      "text/plain": [
       "Prod_id\n",
       "Prod_1       6664.15\n",
       "Prod_10    -33582.13\n",
       "Prod_11    -99062.50\n",
       "Prod_12     13677.17\n",
       "Prod_13      7564.78\n",
       "Prod_14    167361.49\n",
       "Prod_15    149649.73\n",
       "Prod_16     -7799.25\n",
       "Prod_17    307712.93\n",
       "Prod_2      97158.06\n",
       "Prod_3     307413.39\n",
       "Prod_4     316951.62\n",
       "Prod_5     100427.93\n",
       "Prod_6      45263.20\n",
       "Prod_7       -102.67\n",
       "Prod_8      94287.48\n",
       "Prod_9      48182.60\n",
       "Name: Profit, dtype: float64"
      ]
     },
     "execution_count": 238,
     "metadata": {},
     "output_type": "execute_result"
    }
   ],
   "source": [
    "g1['Profit'].sum()"
   ]
  },
  {
   "cell_type": "code",
   "execution_count": 243,
   "id": "e24354fe",
   "metadata": {},
   "outputs": [
    {
     "data": {
      "text/html": [
       "<div>\n",
       "<style scoped>\n",
       "    .dataframe tbody tr th:only-of-type {\n",
       "        vertical-align: middle;\n",
       "    }\n",
       "\n",
       "    .dataframe tbody tr th {\n",
       "        vertical-align: top;\n",
       "    }\n",
       "\n",
       "    .dataframe thead th {\n",
       "        text-align: right;\n",
       "    }\n",
       "</style>\n",
       "<table border=\"1\" class=\"dataframe\">\n",
       "  <thead>\n",
       "    <tr style=\"text-align: right;\">\n",
       "      <th></th>\n",
       "      <th>Prod_id</th>\n",
       "      <th>Ship_id</th>\n",
       "    </tr>\n",
       "    <tr>\n",
       "      <th>Prod_id</th>\n",
       "      <th></th>\n",
       "      <th></th>\n",
       "    </tr>\n",
       "  </thead>\n",
       "  <tbody>\n",
       "    <tr>\n",
       "      <th>Prod_1</th>\n",
       "      <td>Prod_1Prod_1Prod_1Prod_1Prod_1Prod_1Prod_1Prod...</td>\n",
       "      <td>SHP_1634SHP_6327SHP_7481SHP_286SHP_1895SHP_225...</td>\n",
       "    </tr>\n",
       "    <tr>\n",
       "      <th>Prod_10</th>\n",
       "      <td>Prod_10Prod_10Prod_10Prod_10Prod_10Prod_10Prod...</td>\n",
       "      <td>SHP_3006SHP_3256SHP_2098SHP_3025SHP_7451SHP_76...</td>\n",
       "    </tr>\n",
       "    <tr>\n",
       "      <th>Prod_11</th>\n",
       "      <td>Prod_11Prod_11Prod_11Prod_11Prod_11Prod_11Prod...</td>\n",
       "      <td>SHP_3093SHP_1635SHP_6079SHP_3211SHP_3255SHP_72...</td>\n",
       "    </tr>\n",
       "    <tr>\n",
       "      <th>Prod_12</th>\n",
       "      <td>Prod_12Prod_12Prod_12Prod_12Prod_12Prod_12Prod...</td>\n",
       "      <td>SHP_41SHP_3395SHP_7025SHP_6650SHP_6437SHP_6335...</td>\n",
       "    </tr>\n",
       "    <tr>\n",
       "      <th>Prod_13</th>\n",
       "      <td>Prod_13Prod_13Prod_13Prod_13Prod_13Prod_13Prod...</td>\n",
       "      <td>SHP_7549SHP_6593SHP_1378SHP_1378SHP_3204SHP_70...</td>\n",
       "    </tr>\n",
       "    <tr>\n",
       "      <th>Prod_14</th>\n",
       "      <td>Prod_14Prod_14Prod_14Prod_14Prod_14Prod_14Prod...</td>\n",
       "      <td>SHP_7252SHP_6892SHP_6858SHP_4132SHP_304SHP_615...</td>\n",
       "    </tr>\n",
       "    <tr>\n",
       "      <th>Prod_15</th>\n",
       "      <td>Prod_15Prod_15Prod_15Prod_15Prod_15Prod_15Prod...</td>\n",
       "      <td>SHP_6228SHP_7024SHP_7299SHP_7659SHP_346SHP_189...</td>\n",
       "    </tr>\n",
       "    <tr>\n",
       "      <th>Prod_16</th>\n",
       "      <td>Prod_16Prod_16Prod_16Prod_16Prod_16Prod_16Prod...</td>\n",
       "      <td>SHP_7609SHP_4112SHP_7663SHP_5175SHP_5771SHP_66...</td>\n",
       "    </tr>\n",
       "    <tr>\n",
       "      <th>Prod_17</th>\n",
       "      <td>Prod_17Prod_17Prod_17Prod_17Prod_17Prod_17Prod...</td>\n",
       "      <td>SHP_7664SHP_7042SHP_7287SHP_7306SHP_7671SHP_16...</td>\n",
       "    </tr>\n",
       "    <tr>\n",
       "      <th>Prod_2</th>\n",
       "      <td>Prod_2Prod_2Prod_2Prod_2Prod_2Prod_2Prod_2Prod...</td>\n",
       "      <td>SHP_6615SHP_7022SHP_7032SHP_6545SHP_6322SHP_64...</td>\n",
       "    </tr>\n",
       "    <tr>\n",
       "      <th>Prod_3</th>\n",
       "      <td>Prod_3Prod_3Prod_3Prod_3Prod_3Prod_3Prod_3Prod...</td>\n",
       "      <td>SHP_3525SHP_7033SHP_7310SHP_7288SHP_166SHP_339...</td>\n",
       "    </tr>\n",
       "    <tr>\n",
       "      <th>Prod_4</th>\n",
       "      <td>Prod_4Prod_4Prod_4Prod_4Prod_4Prod_4Prod_4Prod...</td>\n",
       "      <td>SHP_7610SHP_6593SHP_3527SHP_6651SHP_6531SHP_63...</td>\n",
       "    </tr>\n",
       "    <tr>\n",
       "      <th>Prod_5</th>\n",
       "      <td>Prod_5Prod_5Prod_5Prod_5Prod_5Prod_5Prod_5Prod...</td>\n",
       "      <td>SHP_3114SHP_1377SHP_3367SHP_7040SHP_6490SHP_65...</td>\n",
       "    </tr>\n",
       "    <tr>\n",
       "      <th>Prod_6</th>\n",
       "      <td>Prod_6Prod_6Prod_6Prod_6Prod_6Prod_6Prod_6Prod...</td>\n",
       "      <td>SHP_7625SHP_7608SHP_6593SHP_2637SHP_6171SHP_13...</td>\n",
       "    </tr>\n",
       "    <tr>\n",
       "      <th>Prod_7</th>\n",
       "      <td>Prod_7Prod_7Prod_7Prod_7Prod_7Prod_7Prod_7Prod...</td>\n",
       "      <td>SHP_1378SHP_3526SHP_7041SHP_2261SHP_1993SHP_25...</td>\n",
       "    </tr>\n",
       "    <tr>\n",
       "      <th>Prod_8</th>\n",
       "      <td>Prod_8Prod_8Prod_8Prod_8Prod_8Prod_8Prod_8Prod...</td>\n",
       "      <td>SHP_6328SHP_5892SHP_341SHP_164SHP_7504SHP_2078...</td>\n",
       "    </tr>\n",
       "    <tr>\n",
       "      <th>Prod_9</th>\n",
       "      <td>Prod_9Prod_9Prod_9Prod_9Prod_9Prod_9Prod_9Prod...</td>\n",
       "      <td>SHP_3122SHP_3300SHP_3203SHP_182SHP_6073SHP_373...</td>\n",
       "    </tr>\n",
       "  </tbody>\n",
       "</table>\n",
       "</div>"
      ],
      "text/plain": [
       "                                                   Prod_id  \\\n",
       "Prod_id                                                      \n",
       "Prod_1   Prod_1Prod_1Prod_1Prod_1Prod_1Prod_1Prod_1Prod...   \n",
       "Prod_10  Prod_10Prod_10Prod_10Prod_10Prod_10Prod_10Prod...   \n",
       "Prod_11  Prod_11Prod_11Prod_11Prod_11Prod_11Prod_11Prod...   \n",
       "Prod_12  Prod_12Prod_12Prod_12Prod_12Prod_12Prod_12Prod...   \n",
       "Prod_13  Prod_13Prod_13Prod_13Prod_13Prod_13Prod_13Prod...   \n",
       "Prod_14  Prod_14Prod_14Prod_14Prod_14Prod_14Prod_14Prod...   \n",
       "Prod_15  Prod_15Prod_15Prod_15Prod_15Prod_15Prod_15Prod...   \n",
       "Prod_16  Prod_16Prod_16Prod_16Prod_16Prod_16Prod_16Prod...   \n",
       "Prod_17  Prod_17Prod_17Prod_17Prod_17Prod_17Prod_17Prod...   \n",
       "Prod_2   Prod_2Prod_2Prod_2Prod_2Prod_2Prod_2Prod_2Prod...   \n",
       "Prod_3   Prod_3Prod_3Prod_3Prod_3Prod_3Prod_3Prod_3Prod...   \n",
       "Prod_4   Prod_4Prod_4Prod_4Prod_4Prod_4Prod_4Prod_4Prod...   \n",
       "Prod_5   Prod_5Prod_5Prod_5Prod_5Prod_5Prod_5Prod_5Prod...   \n",
       "Prod_6   Prod_6Prod_6Prod_6Prod_6Prod_6Prod_6Prod_6Prod...   \n",
       "Prod_7   Prod_7Prod_7Prod_7Prod_7Prod_7Prod_7Prod_7Prod...   \n",
       "Prod_8   Prod_8Prod_8Prod_8Prod_8Prod_8Prod_8Prod_8Prod...   \n",
       "Prod_9   Prod_9Prod_9Prod_9Prod_9Prod_9Prod_9Prod_9Prod...   \n",
       "\n",
       "                                                   Ship_id  \n",
       "Prod_id                                                     \n",
       "Prod_1   SHP_1634SHP_6327SHP_7481SHP_286SHP_1895SHP_225...  \n",
       "Prod_10  SHP_3006SHP_3256SHP_2098SHP_3025SHP_7451SHP_76...  \n",
       "Prod_11  SHP_3093SHP_1635SHP_6079SHP_3211SHP_3255SHP_72...  \n",
       "Prod_12  SHP_41SHP_3395SHP_7025SHP_6650SHP_6437SHP_6335...  \n",
       "Prod_13  SHP_7549SHP_6593SHP_1378SHP_1378SHP_3204SHP_70...  \n",
       "Prod_14  SHP_7252SHP_6892SHP_6858SHP_4132SHP_304SHP_615...  \n",
       "Prod_15  SHP_6228SHP_7024SHP_7299SHP_7659SHP_346SHP_189...  \n",
       "Prod_16  SHP_7609SHP_4112SHP_7663SHP_5175SHP_5771SHP_66...  \n",
       "Prod_17  SHP_7664SHP_7042SHP_7287SHP_7306SHP_7671SHP_16...  \n",
       "Prod_2   SHP_6615SHP_7022SHP_7032SHP_6545SHP_6322SHP_64...  \n",
       "Prod_3   SHP_3525SHP_7033SHP_7310SHP_7288SHP_166SHP_339...  \n",
       "Prod_4   SHP_7610SHP_6593SHP_3527SHP_6651SHP_6531SHP_63...  \n",
       "Prod_5   SHP_3114SHP_1377SHP_3367SHP_7040SHP_6490SHP_65...  \n",
       "Prod_6   SHP_7625SHP_7608SHP_6593SHP_2637SHP_6171SHP_13...  \n",
       "Prod_7   SHP_1378SHP_3526SHP_7041SHP_2261SHP_1993SHP_25...  \n",
       "Prod_8   SHP_6328SHP_5892SHP_341SHP_164SHP_7504SHP_2078...  \n",
       "Prod_9   SHP_3122SHP_3300SHP_3203SHP_182SHP_6073SHP_373...  "
      ]
     },
     "execution_count": 243,
     "metadata": {},
     "output_type": "execute_result"
    }
   ],
   "source": [
    "g1[['Prod_id','Ship_id']].sum()"
   ]
  },
  {
   "cell_type": "code",
   "execution_count": 248,
   "id": "b77769fb",
   "metadata": {},
   "outputs": [],
   "source": [
    "df['isProfitable']=df['Profit'].apply(lambda x: 'profitable' if x>0 else 'not profitable')"
   ]
  },
  {
   "cell_type": "code",
   "execution_count": 249,
   "id": "25bd277a",
   "metadata": {},
   "outputs": [
    {
     "data": {
      "text/html": [
       "<div>\n",
       "<style scoped>\n",
       "    .dataframe tbody tr th:only-of-type {\n",
       "        vertical-align: middle;\n",
       "    }\n",
       "\n",
       "    .dataframe tbody tr th {\n",
       "        vertical-align: top;\n",
       "    }\n",
       "\n",
       "    .dataframe thead th {\n",
       "        text-align: right;\n",
       "    }\n",
       "</style>\n",
       "<table border=\"1\" class=\"dataframe\">\n",
       "  <thead>\n",
       "    <tr style=\"text-align: right;\">\n",
       "      <th></th>\n",
       "      <th>Ord_id</th>\n",
       "      <th>Prod_id</th>\n",
       "      <th>Ship_id</th>\n",
       "      <th>Cust_id</th>\n",
       "      <th>Sales</th>\n",
       "      <th>Discount</th>\n",
       "      <th>Order_Quantity</th>\n",
       "      <th>Profit</th>\n",
       "      <th>Shipping_Cost</th>\n",
       "      <th>Product_Base_Margin</th>\n",
       "      <th>isProfitable</th>\n",
       "    </tr>\n",
       "  </thead>\n",
       "  <tbody>\n",
       "    <tr>\n",
       "      <th>0</th>\n",
       "      <td>Ord_5446</td>\n",
       "      <td>Prod_16</td>\n",
       "      <td>SHP_7609</td>\n",
       "      <td>Cust_1818</td>\n",
       "      <td>136.81</td>\n",
       "      <td>0.01</td>\n",
       "      <td>23</td>\n",
       "      <td>-30.51</td>\n",
       "      <td>3.60</td>\n",
       "      <td>0.56</td>\n",
       "      <td>not profitable</td>\n",
       "    </tr>\n",
       "    <tr>\n",
       "      <th>1</th>\n",
       "      <td>Ord_5406</td>\n",
       "      <td>Prod_13</td>\n",
       "      <td>SHP_7549</td>\n",
       "      <td>Cust_1818</td>\n",
       "      <td>42.27</td>\n",
       "      <td>0.01</td>\n",
       "      <td>13</td>\n",
       "      <td>4.56</td>\n",
       "      <td>0.93</td>\n",
       "      <td>0.54</td>\n",
       "      <td>profitable</td>\n",
       "    </tr>\n",
       "    <tr>\n",
       "      <th>2</th>\n",
       "      <td>Ord_5446</td>\n",
       "      <td>Prod_4</td>\n",
       "      <td>SHP_7610</td>\n",
       "      <td>Cust_1818</td>\n",
       "      <td>4701.69</td>\n",
       "      <td>0.00</td>\n",
       "      <td>26</td>\n",
       "      <td>1148.90</td>\n",
       "      <td>2.50</td>\n",
       "      <td>0.59</td>\n",
       "      <td>profitable</td>\n",
       "    </tr>\n",
       "    <tr>\n",
       "      <th>3</th>\n",
       "      <td>Ord_5456</td>\n",
       "      <td>Prod_6</td>\n",
       "      <td>SHP_7625</td>\n",
       "      <td>Cust_1818</td>\n",
       "      <td>2337.89</td>\n",
       "      <td>0.09</td>\n",
       "      <td>43</td>\n",
       "      <td>729.34</td>\n",
       "      <td>14.30</td>\n",
       "      <td>0.37</td>\n",
       "      <td>profitable</td>\n",
       "    </tr>\n",
       "    <tr>\n",
       "      <th>4</th>\n",
       "      <td>Ord_5485</td>\n",
       "      <td>Prod_17</td>\n",
       "      <td>SHP_7664</td>\n",
       "      <td>Cust_1818</td>\n",
       "      <td>4233.15</td>\n",
       "      <td>0.08</td>\n",
       "      <td>35</td>\n",
       "      <td>1219.87</td>\n",
       "      <td>26.30</td>\n",
       "      <td>0.38</td>\n",
       "      <td>profitable</td>\n",
       "    </tr>\n",
       "  </tbody>\n",
       "</table>\n",
       "</div>"
      ],
      "text/plain": [
       "     Ord_id  Prod_id   Ship_id    Cust_id    Sales  Discount  Order_Quantity  \\\n",
       "0  Ord_5446  Prod_16  SHP_7609  Cust_1818   136.81      0.01              23   \n",
       "1  Ord_5406  Prod_13  SHP_7549  Cust_1818    42.27      0.01              13   \n",
       "2  Ord_5446   Prod_4  SHP_7610  Cust_1818  4701.69      0.00              26   \n",
       "3  Ord_5456   Prod_6  SHP_7625  Cust_1818  2337.89      0.09              43   \n",
       "4  Ord_5485  Prod_17  SHP_7664  Cust_1818  4233.15      0.08              35   \n",
       "\n",
       "    Profit  Shipping_Cost  Product_Base_Margin    isProfitable  \n",
       "0   -30.51           3.60                 0.56  not profitable  \n",
       "1     4.56           0.93                 0.54      profitable  \n",
       "2  1148.90           2.50                 0.59      profitable  \n",
       "3   729.34          14.30                 0.37      profitable  \n",
       "4  1219.87          26.30                 0.38      profitable  "
      ]
     },
     "execution_count": 249,
     "metadata": {},
     "output_type": "execute_result"
    }
   ],
   "source": [
    "df.head()"
   ]
  },
  {
   "cell_type": "code",
   "execution_count": null,
   "id": "b71e7e6a",
   "metadata": {},
   "outputs": [],
   "source": []
  }
 ],
 "metadata": {
  "kernelspec": {
   "display_name": "Python 3 (ipykernel)",
   "language": "python",
   "name": "python3"
  },
  "language_info": {
   "codemirror_mode": {
    "name": "ipython",
    "version": 3
   },
   "file_extension": ".py",
   "mimetype": "text/x-python",
   "name": "python",
   "nbconvert_exporter": "python",
   "pygments_lexer": "ipython3",
   "version": "3.11.5"
  }
 },
 "nbformat": 4,
 "nbformat_minor": 5
}
